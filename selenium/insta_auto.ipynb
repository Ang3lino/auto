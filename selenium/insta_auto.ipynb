{
 "cells": [
  {
   "cell_type": "markdown",
   "metadata": {},
   "source": [
    "# InstaBot\n",
    "Automation tasks for instagram to get more reactions or followers and scrapping people information."
   ]
  },
  {
   "cell_type": "markdown",
   "metadata": {},
   "source": [
    "Install web drivers to use the latest version of selenium.\n",
    "https://selenium-python.readthedocs.io/"
   ]
  },
  {
   "cell_type": "code",
   "execution_count": 1,
   "metadata": {},
   "outputs": [
    {
     "name": "stdout",
     "output_type": "stream",
     "text": [
      "Requirement already satisfied: webdriver-manager in /home/aingeru/anaconda3/lib/python3.7/site-packages (3.2.2)\n",
      "Requirement already satisfied: requests in /home/aingeru/anaconda3/lib/python3.7/site-packages (from webdriver-manager) (2.22.0)\n",
      "Requirement already satisfied: crayons in /home/aingeru/anaconda3/lib/python3.7/site-packages (from webdriver-manager) (0.4.0)\n",
      "Requirement already satisfied: configparser in /home/aingeru/anaconda3/lib/python3.7/site-packages (from webdriver-manager) (5.0.1)\n",
      "Requirement already satisfied: colorama in /home/aingeru/anaconda3/lib/python3.7/site-packages (from crayons->webdriver-manager) (0.4.3)\n",
      "Requirement already satisfied: chardet<3.1.0,>=3.0.2 in /home/aingeru/anaconda3/lib/python3.7/site-packages (from requests->webdriver-manager) (3.0.4)\n",
      "Requirement already satisfied: certifi>=2017.4.17 in /home/aingeru/anaconda3/lib/python3.7/site-packages (from requests->webdriver-manager) (2019.11.28)\n",
      "Requirement already satisfied: idna<2.9,>=2.5 in /home/aingeru/anaconda3/lib/python3.7/site-packages (from requests->webdriver-manager) (2.8)\n",
      "Requirement already satisfied: urllib3!=1.25.0,!=1.25.1,<1.26,>=1.21.1 in /home/aingeru/anaconda3/lib/python3.7/site-packages (from requests->webdriver-manager) (1.25.8)\n",
      "\u001b[33mWARNING: You are using pip version 21.0.1; however, version 21.1 is available.\n",
      "You should consider upgrading via the '/home/aingeru/anaconda3/bin/python -m pip install --upgrade pip' command.\u001b[0m\n"
     ]
    }
   ],
   "source": [
    "!pip install webdriver-manager"
   ]
  },
  {
   "cell_type": "markdown",
   "metadata": {},
   "source": [
    "Install instaloader, it provides helpful features related to instagram stuff.\n",
    "https://instaloader.github.io/"
   ]
  },
  {
   "cell_type": "code",
   "execution_count": 2,
   "metadata": {},
   "outputs": [
    {
     "name": "stdout",
     "output_type": "stream",
     "text": [
      "Requirement already satisfied: instaloader in /home/aingeru/anaconda3/lib/python3.7/site-packages (4.6.2)\n",
      "Requirement already satisfied: requests>=2.4 in /home/aingeru/anaconda3/lib/python3.7/site-packages (from instaloader) (2.22.0)\n",
      "Requirement already satisfied: chardet<3.1.0,>=3.0.2 in /home/aingeru/anaconda3/lib/python3.7/site-packages (from requests>=2.4->instaloader) (3.0.4)\n",
      "Requirement already satisfied: idna<2.9,>=2.5 in /home/aingeru/anaconda3/lib/python3.7/site-packages (from requests>=2.4->instaloader) (2.8)\n",
      "Requirement already satisfied: urllib3!=1.25.0,!=1.25.1,<1.26,>=1.21.1 in /home/aingeru/anaconda3/lib/python3.7/site-packages (from requests>=2.4->instaloader) (1.25.8)\n",
      "Requirement already satisfied: certifi>=2017.4.17 in /home/aingeru/anaconda3/lib/python3.7/site-packages (from requests>=2.4->instaloader) (2019.11.28)\n",
      "\u001b[33mWARNING: You are using pip version 21.0.1; however, version 21.1 is available.\n",
      "You should consider upgrading via the '/home/aingeru/anaconda3/bin/python -m pip install --upgrade pip' command.\u001b[0m\n"
     ]
    }
   ],
   "source": [
    "!pip install instaloader"
   ]
  },
  {
   "cell_type": "code",
   "execution_count": 3,
   "metadata": {},
   "outputs": [],
   "source": [
    "import random\n",
    "import sys\n",
    "import time\n",
    "import os\n",
    "import csv\n",
    "import glob\n",
    "import pandas as pd\n",
    "import instaloader\n",
    "\n",
    "from selenium import webdriver\n",
    "from selenium.webdriver.common.keys import Keys\n",
    "from selenium.common.exceptions import NoSuchElementException\n",
    "from tqdm import tqdm\n",
    "from getpass import getpass\n",
    "from datetime import datetime "
   ]
  },
  {
   "cell_type": "code",
   "execution_count": 4,
   "metadata": {},
   "outputs": [
    {
     "name": "stderr",
     "output_type": "stream",
     "text": [
      "[WDM] - Current google-chrome version is 90.0.4430\n",
      "[WDM] - Get LATEST driver version for 90.0.4430\n"
     ]
    },
    {
     "name": "stdout",
     "output_type": "stream",
     "text": [
      " \n"
     ]
    },
    {
     "name": "stderr",
     "output_type": "stream",
     "text": [
      "[WDM] - There is no [linux64] chromedriver for browser 90.0.4430 in cache\n",
      "[WDM] - Get LATEST driver version for 90.0.4430\n",
      "[WDM] - Trying to download new driver from http://chromedriver.storage.googleapis.com/90.0.4430.24/chromedriver_linux64.zip\n",
      "[WDM] - Driver has been saved in cache [/home/aingeru/.wdm/drivers/chromedriver/linux64/90.0.4430.24]\n"
     ]
    }
   ],
   "source": [
    "from selenium import webdriver\n",
    "from webdriver_manager.chrome import ChromeDriverManager\n",
    "\n",
    "\n",
    "# download the latest chrome driver\n",
    "driver = webdriver.Chrome(ChromeDriverManager().install())"
   ]
  },
  {
   "cell_type": "markdown",
   "metadata": {},
   "source": [
    "# Login "
   ]
  },
  {
   "cell_type": "code",
   "execution_count": 5,
   "metadata": {},
   "outputs": [],
   "source": [
    "def login(driver, username, password):\n",
    "    driver.get(\"https://www.instagram.com/\")\n",
    "    time.sleep(2)\n",
    "    # login_button = driver.find_element_by_xpath(\"//a[@href='/accounts/login/?source=auth_switcher']\")\n",
    "    # login_button.click()\n",
    "    # time.sleep(2)\n",
    "    user_name_elem = driver.find_element_by_xpath(\"//input[@name='username']\")\n",
    "    user_name_elem.clear()\n",
    "    user_name_elem.send_keys(username)\n",
    "    password_elem = driver.find_element_by_xpath(\"//input[@name='password']\")\n",
    "    password_elem.clear()\n",
    "    password_elem.send_keys(password)\n",
    "    password_elem.send_keys(Keys.RETURN)\n",
    "    time.sleep(2)\n",
    "    \n"
   ]
  },
  {
   "cell_type": "code",
   "execution_count": 6,
   "metadata": {
    "scrolled": true
   },
   "outputs": [
    {
     "name": "stdout",
     "output_type": "stream",
     "text": [
      "········\n"
     ]
    }
   ],
   "source": [
    "# driver = webdriver.Chrome('./chromedriver')\n",
    "USER = 'arcangel.zip'\n",
    "PASSWORD = getpass()\n",
    "login(driver, USER, PASSWORD)"
   ]
  },
  {
   "cell_type": "markdown",
   "metadata": {},
   "source": [
    "# Like comments\n",
    "Like all comments for a post. It may not like all comments if there are many of them due to instagram blocks some actions temporarily if we do it several times in a short time."
   ]
  },
  {
   "cell_type": "code",
   "execution_count": 7,
   "metadata": {},
   "outputs": [],
   "source": [
    "'''\n",
    "Action blocked html \n",
    "<div class=\"pbNvD  fPMEg   \" role=\"dialog\">\n",
    "    <div class=\"piCib\">\n",
    "        <div class=\"_08v79\">\n",
    "            <h3 class=\"_7UhW9     LjQVu     qyrsm KV-D4        uL8Hv         \">\n",
    "                Action Blocked\n",
    "            </h3>\n",
    "            <div class=\"_7UhW9   xLCgt      MMzan   _0PwGv       uL8Hv         \">\n",
    "                This action was blocked. Please try again later. We restrict certain content and actions to protect our community. Tell us if you think we made a mistake.</div></div><div class=\"mt3GC\"><button class=\"aOOlW  bIiDR  \" tabindex=\"0\">Report a Problem</button><button class=\"aOOlW   HoLwm \" tabindex=\"0\">OK</button></div></div></div>\n",
    "'''\n",
    "def deal_blocked_action():\n",
    "    div = driver.find_element_by_class_name('mt3GC')\n",
    "    btn = div.find_elements_by_tag_name('button')\n",
    "    button_ok = btn[1].click()\n",
    "    \n",
    "def __load_comments(n, delay=2):\n",
    "    '''Click the watch more comments in the post n times'''\n",
    "    print(f'There are {n} comments, loading them...')\n",
    "    n = n // 12  # 12 comments updated at time\n",
    "    for _ in tqdm(range(n), total=n, position=0, leave=True):  # force the tqdm bar to stay in the same line with position=0 and leave=True\n",
    "        try:\n",
    "            btn = driver.find_element_by_xpath(\"//button[@class='dCJp8 afkep']\")\n",
    "        except NoSuchElementException as e:\n",
    "            break  # we have all the comments loaded\n",
    "        btn.click()\n",
    "        time.sleep(delay)\n"
   ]
  },
  {
   "cell_type": "code",
   "execution_count": 8,
   "metadata": {},
   "outputs": [],
   "source": [
    "def __love_comment(comment):\n",
    "    svgs = comment.find_elements_by_tag_name('svg')\n",
    "    for svg in svgs:\n",
    "        attr = svg.get_attribute('aria-label')\n",
    "        if attr == 'Unlike':  # we've loved the button\n",
    "            return True\n",
    "        elif attr == 'Like':\n",
    "            try:\n",
    "                svg.click()\n",
    "            except Exception as e:\n",
    "                print(\"[!] IG got angry man, stop\")  # love click limit reached\n",
    "                return False\n",
    "            return True\n",
    "        \n",
    "def __get_nick_from_comment(ul_comment):\n",
    "    h3 = ul_comment.find_element_by_tag_name('h3')\n",
    "    a = h3.find_element_by_tag_name('a')\n",
    "    return a.text"
   ]
  },
  {
   "cell_type": "code",
   "execution_count": null,
   "metadata": {},
   "outputs": [],
   "source": [
    "def __load_previous_nicknames_loved():\n",
    "    if os.path.exists('loved.txt'):  # we have loved previous comments\n",
    "        fname = 'loved.txt'\n",
    "        with open(fname, 'r') as fp:\n",
    "            loved = set(x for x in fp.read().split('\\n'))\n",
    "        loved.remove('') \n",
    "        print(f'{len(loved)} already loved')\n",
    "        return loved\n",
    "    return None"
   ]
  },
  {
   "cell_type": "code",
   "execution_count": 46,
   "metadata": {},
   "outputs": [],
   "source": [
    "    \n",
    "def like_comments(url, comments_count, loaded=False):\n",
    "    if not loaded:\n",
    "        driver.get(url)\n",
    "        time.sleep(2)\n",
    "        __load_comments(comments_count)\n",
    "    print(\"[OK] All comments in the screen\")\n",
    "    loved_hist = __load_previous_nicknames_loved()\n",
    "    comments = driver.find_elements_by_class_name('Mr508')\n",
    "    ul_comments = filter(lambda c: c.tag_name == 'ul', comments)\n",
    "    with open('loved.txt', 'a+') as fp:\n",
    "        for comment in tqdm(ul_comments, total=comments_count, leave=True, position=0 ):\n",
    "            nick = __get_nick_from_comment(comment)\n",
    "            if loved_hist and nick in loved_hist:\n",
    "                continue\n",
    "            if not __love_comment(comment):\n",
    "                return False  # IG is upset and thinks I'm a bot haha\n",
    "            fp.write(nick + '\\n')\n",
    "            time.sleep(random.randint(1, 8))  # delay randomly to avoid anti-bot algorithm\n",
    "    return True\n"
   ]
  },
  {
   "cell_type": "code",
   "execution_count": 52,
   "metadata": {},
   "outputs": [
    {
     "name": "stdout",
     "output_type": "stream",
     "text": [
      "[OK] All comments in the screen\n",
      "1162 already loved\n"
     ]
    },
    {
     "name": "stderr",
     "output_type": "stream",
     "text": [
      " 99%|█████████▉| 1220/1235 [01:42<00:01, 11.93it/s]\n"
     ]
    },
    {
     "data": {
      "text/plain": [
       "True"
      ]
     },
     "execution_count": 52,
     "metadata": {},
     "output_type": "execute_result"
    }
   ],
   "source": [
    "# post_url = \"https://www.instagram.com/p/B_ghUHuFtVr/\"\n",
    "# post_url = 'https://www.instagram.com/p/B_liTk6BHLe/'\n",
    "post_url = 'https://www.instagram.com/p/CN3mHXjFatM/'\n",
    "updated_comms = True\n",
    "like_comments(post_url, 1235, updated_comms)"
   ]
  },
  {
   "cell_type": "markdown",
   "metadata": {},
   "source": [
    "# Followers and following\n",
    "Know who is following you and who you are following."
   ]
  },
  {
   "cell_type": "code",
   "execution_count": 7,
   "metadata": {},
   "outputs": [],
   "source": [
    "def get_inner_html(elem):\n",
    "    return elem.get_attribute('innerHTML')\n",
    "\n",
    "def click_post_followers_following(index):\n",
    "    '''You shoud be in the target profile before execute the function.\n",
    "    If index == 0 post else if index == 1 followers else if index == 2 following else error will be raised. '''\n",
    "    ul_post_followers_following = driver.find_element_by_class_name(\"k9GMp \")\n",
    "    li_elems = ul_post_followers_following.find_elements_by_tag_name('li')\n",
    "    li_selected = li_elems[index]\n",
    "    li_selected.find_element_by_tag_name('a').click() \n",
    "    \n",
    "    # how many li are there\n",
    "    return int(li_selected.find_element_by_tag_name('span').text)\n",
    "\n",
    "def get_nicknames(people_count) -> set:\n",
    "    '''We'll scrap nicknames by looking followers, following field in our account  \n",
    "    '''    \n",
    "    print('Scrolling...')\n",
    "    div = driver.find_element_by_class_name('isgrP')\n",
    "    ul_scroll = div.find_element_by_tag_name('ul')\n",
    "    for _ in tqdm(range(people_count // 12)):  # Insta loads 12 elements per upload\n",
    "        driver.execute_script('arguments[0].scrollIntoView(false)', ul_scroll)  # scroll all the way down to load all li elements inside ul list\n",
    "        time.sleep(1)  # wait to load html elements\n",
    "    \n",
    "    li_people = driver.find_elements_by_class_name('wo9IH')  # it may find elements inside ul_scoll variable\n",
    "    people_names = set()\n",
    "    print('Appending nicknames in list...')\n",
    "    try:\n",
    "        for li_elem in tqdm(li_people, total=len(li_people), leave=True, position=0):\n",
    "            div_elem = li_elem.find_element_by_class_name('d7ByH')\n",
    "            a_elem = div_elem.find_element_by_tag_name('a')\n",
    "            people_names.add(a_elem.text)\n",
    "    except Exception as e:\n",
    "        print(e)\n",
    "    return people_names\n"
   ]
  },
  {
   "cell_type": "code",
   "execution_count": 8,
   "metadata": {},
   "outputs": [],
   "source": [
    "def __get_people(option, url_profile):\n",
    "    driver.get(url_profile)\n",
    "    time.sleep(2)  # call time after update the document\n",
    "    n = click_post_followers_following(option)\n",
    "    print(f'Followers: {n}') if option == 1 else print(f'Following: {n}')    \n",
    "    time.sleep(2)\n",
    "    return get_nicknames(n)\n",
    "\n",
    "def get_followers(username):\n",
    "    url_profile = f'https://www.instagram.com/{username}/'\n",
    "    return __get_people(1, url_profile)\n",
    "\n",
    "def get_following(username):\n",
    "    url_profile = f'https://www.instagram.com/{username}/'\n",
    "    return __get_people(2, url_profile)"
   ]
  },
  {
   "cell_type": "code",
   "execution_count": 9,
   "metadata": {},
   "outputs": [],
   "source": [
    "L = instaloader.Instaloader()\n",
    "# Login or load session\n",
    "L.login(USER, PASSWORD)        # (login)\n",
    "# L.interactive_login(USER)      # (ask password on terminal)\n",
    "# L.load_session_from_file(USER) # (load session created w/  #  `instaloader -l USERNAME`)"
   ]
  },
  {
   "cell_type": "code",
   "execution_count": 10,
   "metadata": {},
   "outputs": [],
   "source": [
    "profile = instaloader.Profile.from_username(L.context, USER)  # Obtain profile metadata\n",
    "followers = set(followee.username for followee in profile.get_followers())\n",
    "following = set(followee.username for followee in profile.get_followees())"
   ]
  },
  {
   "cell_type": "markdown",
   "metadata": {},
   "source": [
    "create a log directory to save people whom you had interacted with"
   ]
  },
  {
   "cell_type": "code",
   "execution_count": 11,
   "metadata": {},
   "outputs": [],
   "source": [
    "now = datetime.now()\n",
    "dir_name = str(now)\n",
    "dir_log = './logs/' + dir_name\n",
    "os.mkdir(dir_log)"
   ]
  },
  {
   "cell_type": "code",
   "execution_count": 12,
   "metadata": {},
   "outputs": [
    {
     "name": "stdout",
     "output_type": "stream",
     "text": [
      "Followers:  866 followee:  915\n",
      "Non following back:  215\n"
     ]
    }
   ],
   "source": [
    "print('Followers: ', len(followers), 'followee: ', len(following))\n",
    "with open(dir_log + '/followers.txt', 'w') as fp:\n",
    "    fp.write('\\n'.join(followers))\n",
    "with open(dir_log + '/following.txt', 'w') as fp:\n",
    "    fp.write('\\n'.join(following))\n",
    "non_following_back = following - followers\n",
    "with open(dir_log + '/non_following_back.txt', 'w') as fp:\n",
    "    fp.write('\\n'.join(non_following_back))\n",
    "print('Non following back: ', len(non_following_back))"
   ]
  },
  {
   "cell_type": "markdown",
   "metadata": {},
   "source": [
    "load a whitelist if you don't mind the person is not following you"
   ]
  },
  {
   "cell_type": "code",
   "execution_count": 13,
   "metadata": {},
   "outputs": [],
   "source": [
    "def get_whitelist():\n",
    "    whitelist = set()\n",
    "    file_list = glob.glob('./whitelist/*txt')\n",
    "    for fpath in file_list:\n",
    "        with open(fpath, 'r') as fp:\n",
    "            whitelist = whitelist | set(fp.read().split('\\n'))\n",
    "    return whitelist - {''}"
   ]
  },
  {
   "cell_type": "code",
   "execution_count": 14,
   "metadata": {},
   "outputs": [
    {
     "data": {
      "text/plain": [
       "122"
      ]
     },
     "execution_count": 14,
     "metadata": {},
     "output_type": "execute_result"
    }
   ],
   "source": [
    "whitelist = get_whitelist()\n",
    "removables = non_following_back - whitelist\n",
    "len(removables)"
   ]
  },
  {
   "cell_type": "markdown",
   "metadata": {},
   "source": [
    "## Remove non followers"
   ]
  },
  {
   "cell_type": "code",
   "execution_count": 15,
   "metadata": {},
   "outputs": [],
   "source": [
    "def is_current_private():\n",
    "    '''We assume we are following him. We click the unfollow button, then read if IG notifies us if it's private'''\n",
    "    try:\n",
    "        btn_following = driver.find_element_by_xpath(\"//span[@aria-label='Following']\")\n",
    "    except NoSuchElementException:\n",
    "        print('You were not following him')\n",
    "        return False\n",
    "    btn_following.click()\n",
    "    time.sleep(4)\n",
    "    dialog = driver.find_element_by_xpath(\"//div[@role='dialog']\")\n",
    "    unfollow_btn, cancel_btn = dialog.find_elements_by_tag_name('button')\n",
    "    msg = dialog.find_element_by_class_name('_08v79')\n",
    "    private = 'If you change your mind' in msg.text  # if IG is in English it will work\n",
    "    cancel_btn.click()\n",
    "    time.sleep(4)\n",
    "    return private"
   ]
  },
  {
   "cell_type": "code",
   "execution_count": 16,
   "metadata": {},
   "outputs": [],
   "source": [
    "\n",
    "def get_user_info(username=None):\n",
    "    '''Get basic info from users. Window must be maximized in order to work.'''\n",
    "    # load user's profile\n",
    "    if username is not None:\n",
    "        username_url = f'https://www.instagram.com/{username}/'\n",
    "        driver.get(username_url)\n",
    "        time.sleep(random.randint(7, 15))\n",
    "\n",
    "    # find ul elements (required for the count fields)\n",
    "    ul = driver.find_element_by_xpath('//*[@id=\"react-root\"]/section/main/div/header/section/ul')\n",
    "    li_list = ul.find_elements_by_tag_name('li')\n",
    "    fetch_text = lambda e: e.find_element_by_class_name('g47SY ').text\n",
    "    \n",
    "    posts = fetch_text(li_list[0])\n",
    "    followers = fetch_text(li_list[1])\n",
    "    following = fetch_text(li_list[2])\n",
    "    bio_elem =  driver.find_element_by_xpath('//*[@id=\"react-root\"]/section/main/div/header/section/div[2]')\n",
    "    return posts, followers, following, bio_elem.text"
   ]
  },
  {
   "cell_type": "code",
   "execution_count": 17,
   "metadata": {},
   "outputs": [],
   "source": [
    "def unfollow_current(wait_dialog_secs=6):\n",
    "    '''Unfollow the current profile where we are'''\n",
    "    # unfollow him\n",
    "    try:\n",
    "        btn_following = driver.find_element_by_xpath(\"//span[@aria-label='Following']\")\n",
    "    except NoSuchElementException:\n",
    "        print('You were not following him')\n",
    "        return None\n",
    "    btn_following.click()\n",
    "    time.sleep(wait_dialog_secs)  # wait dialog\n",
    "    dialog = driver.find_element_by_xpath(\"//div[@role='dialog']\")\n",
    "    unfollow_btn, cancel_btn = dialog.find_elements_by_tag_name('button')\n",
    "    msg = dialog.find_element_by_class_name('_08v79').text\n",
    "    unfollow_btn.click()\n",
    "    return 'If you change your mind' in msg  # is private ?"
   ]
  },
  {
   "cell_type": "code",
   "execution_count": 18,
   "metadata": {},
   "outputs": [],
   "source": [
    "df = pd.read_csv('./txt/unfollowed.csv')  # load dataframe of people you have unfollowed previously\n",
    "removables = removables - set(df.nick)"
   ]
  },
  {
   "cell_type": "code",
   "execution_count": 19,
   "metadata": {},
   "outputs": [],
   "source": [
    "fp = open('./txt/unfollowed.csv', mode='a+')\n",
    "writer = csv.writer(fp)  # csv ready to append information"
   ]
  },
  {
   "cell_type": "code",
   "execution_count": 20,
   "metadata": {},
   "outputs": [],
   "source": [
    "iterables = list(removables)\n",
    "# batch_size = min(100, len(iterables))"
   ]
  },
  {
   "cell_type": "code",
   "execution_count": 21,
   "metadata": {},
   "outputs": [
    {
     "name": "stderr",
     "output_type": "stream",
     "text": [
      "100%|██████████| 114/114 [1:18:01<00:00, 41.07s/it]\n"
     ]
    }
   ],
   "source": [
    "bugs = []\n",
    "for nick in tqdm(iterables, total=len(iterables), position=0, leave=True):\n",
    "    # change to user profile\n",
    "    username_url = f'https://www.instagram.com/{nick}/'\n",
    "    driver.get(username_url)\n",
    "    time.sleep(random.randint(20, 30))\n",
    "    \n",
    "    # verify if user exists\n",
    "    try:\n",
    "        h2 = driver.find_element_by_xpath(\"//h2[@class='VnYfv']\")\n",
    "        print(f\"user {nick} not found\")\n",
    "        bugs.append(nick)\n",
    "        continue\n",
    "    except NoSuchElementException:\n",
    "        pass\n",
    "    \n",
    "    posts, followers, following, bio = get_user_info()  # you also change to profile\n",
    "    private = unfollow_current()\n",
    "    if private is None:\n",
    "        print(f\"user {nick} hadn't been followed\")\n",
    "        bugs.append(nick)\n",
    "    else:\n",
    "        writer.writerow([nick, posts, followers, following, bio, private])\n",
    "        fp.flush()  # important to reflect rows in csv file\n",
    "    time.sleep(random.randint(5, 10))  # watch dialog who detect bots\n"
   ]
  },
  {
   "cell_type": "code",
   "execution_count": 48,
   "metadata": {},
   "outputs": [],
   "source": [
    "fp.close()\n",
    "removables = removables - set(bugs)\n",
    "print(bugs)"
   ]
  },
  {
   "cell_type": "markdown",
   "metadata": {},
   "source": [
    "## Follow accounts from files"
   ]
  },
  {
   "cell_type": "code",
   "execution_count": 18,
   "metadata": {},
   "outputs": [],
   "source": [
    "def read_lines(fpath, ):\n",
    "    with open(fpath, 'r') as fp:\n",
    "        return fp.read().split('\\n')"
   ]
  },
  {
   "cell_type": "code",
   "execution_count": 108,
   "metadata": {},
   "outputs": [],
   "source": [
    "nicks = read_lines('./txt/2/nicks.txt')\n",
    "header = ['nick', 'posts', 'followers', 'following', 'info', 'time_followed']\n",
    "people_info, bugs = [], []\n",
    "df = pd.read_csv(\"./txt/unfollowed.csv\")"
   ]
  },
  {
   "cell_type": "code",
   "execution_count": null,
   "metadata": {},
   "outputs": [],
   "source": [
    "print(len(nicks))\n",
    "for followed in df.nick.values:\n",
    "    if followed in nicks:\n",
    "        print(followed)\n",
    "        nicks.remove(followed)\n",
    "print(len(nicks))"
   ]
  },
  {
   "cell_type": "code",
   "execution_count": 26,
   "metadata": {},
   "outputs": [
    {
     "name": "stderr",
     "output_type": "stream",
     "text": [
      " 12%|█▏        | 29/238 [06:11<45:01, 12.93s/it]"
     ]
    },
    {
     "name": "stdout",
     "output_type": "stream",
     "text": [
      "Message: no such element: Unable to locate element: {\"method\":\"xpath\",\"selector\":\"//*[@id=\"react-root\"]/section/main/div/header/section/ul\"}\n",
      "  (Session info: chrome=89.0.4389.90)\n",
      "\n"
     ]
    },
    {
     "name": "stderr",
     "output_type": "stream",
     "text": [
      " 21%|██        | 50/238 [10:43<40:44, 13.00s/it]"
     ]
    },
    {
     "name": "stdout",
     "output_type": "stream",
     "text": [
      "Message: no such element: Unable to locate element: {\"method\":\"xpath\",\"selector\":\"//*[@id=\"react-root\"]/section/main/div/header/section/ul\"}\n",
      "  (Session info: chrome=89.0.4389.90)\n",
      "\n"
     ]
    },
    {
     "name": "stderr",
     "output_type": "stream",
     "text": [
      " 23%|██▎       | 55/238 [11:46<40:20, 13.23s/it]"
     ]
    },
    {
     "name": "stdout",
     "output_type": "stream",
     "text": [
      "Message: no such element: Unable to locate element: {\"method\":\"xpath\",\"selector\":\"//*[@id=\"react-root\"]/section/main/div/header/section/ul\"}\n",
      "  (Session info: chrome=89.0.4389.90)\n",
      "\n"
     ]
    },
    {
     "name": "stderr",
     "output_type": "stream",
     "text": [
      " 24%|██▍       | 57/238 [12:07<34:59, 11.60s/it]"
     ]
    },
    {
     "name": "stdout",
     "output_type": "stream",
     "text": [
      "Message: no such element: Unable to locate element: {\"method\":\"xpath\",\"selector\":\"//*[@id=\"react-root\"]/section/main/div/header/section/ul\"}\n",
      "  (Session info: chrome=89.0.4389.90)\n",
      "\n"
     ]
    },
    {
     "name": "stderr",
     "output_type": "stream",
     "text": [
      " 32%|███▏      | 76/238 [16:03<33:43, 12.49s/it]"
     ]
    },
    {
     "name": "stdout",
     "output_type": "stream",
     "text": [
      "Message: no such element: Unable to locate element: {\"method\":\"xpath\",\"selector\":\"//*[@id=\"react-root\"]/section/main/div/header/section/ul\"}\n",
      "  (Session info: chrome=89.0.4389.90)\n",
      "\n"
     ]
    },
    {
     "name": "stderr",
     "output_type": "stream",
     "text": [
      " 35%|███▌      | 84/238 [17:49<35:02, 13.66s/it]"
     ]
    },
    {
     "name": "stdout",
     "output_type": "stream",
     "text": [
      "Message: no such element: Unable to locate element: {\"method\":\"xpath\",\"selector\":\"//*[@id=\"react-root\"]/section/main/div/header/section/ul\"}\n",
      "  (Session info: chrome=89.0.4389.90)\n",
      "\n"
     ]
    },
    {
     "name": "stderr",
     "output_type": "stream",
     "text": [
      " 39%|███▉      | 93/238 [19:42<28:50, 11.93s/it]"
     ]
    },
    {
     "name": "stdout",
     "output_type": "stream",
     "text": [
      "Message: no such element: Unable to locate element: {\"method\":\"xpath\",\"selector\":\"//*[@id=\"react-root\"]/section/main/div/header/section/ul\"}\n",
      "  (Session info: chrome=89.0.4389.90)\n",
      "\n"
     ]
    },
    {
     "name": "stderr",
     "output_type": "stream",
     "text": [
      " 67%|██████▋   | 159/238 [33:57<18:28, 14.03s/it]"
     ]
    },
    {
     "name": "stdout",
     "output_type": "stream",
     "text": [
      "Message: no such element: Unable to locate element: {\"method\":\"xpath\",\"selector\":\"//*[@id=\"react-root\"]/section/main/div/header/section/ul\"}\n",
      "  (Session info: chrome=89.0.4389.90)\n",
      "\n"
     ]
    },
    {
     "name": "stderr",
     "output_type": "stream",
     "text": [
      " 79%|███████▊  | 187/238 [40:09<10:43, 12.62s/it]"
     ]
    },
    {
     "name": "stdout",
     "output_type": "stream",
     "text": [
      "Message: no such element: Unable to locate element: {\"method\":\"xpath\",\"selector\":\"//*[@id=\"react-root\"]/section/main/div/header/section/ul\"}\n",
      "  (Session info: chrome=89.0.4389.90)\n",
      "\n"
     ]
    },
    {
     "name": "stderr",
     "output_type": "stream",
     "text": [
      "\r",
      " 79%|███████▉  | 188/238 [40:21<10:23, 12.48s/it]"
     ]
    },
    {
     "name": "stdout",
     "output_type": "stream",
     "text": [
      "Message: no such element: Unable to locate element: {\"method\":\"xpath\",\"selector\":\"//*[@id=\"react-root\"]/section/main/div/header/section/ul\"}\n",
      "  (Session info: chrome=89.0.4389.90)\n",
      "\n"
     ]
    },
    {
     "name": "stderr",
     "output_type": "stream",
     "text": [
      " 86%|████████▌ | 205/238 [44:06<07:23, 13.44s/it]"
     ]
    },
    {
     "name": "stdout",
     "output_type": "stream",
     "text": [
      "Message: no such element: Unable to locate element: {\"method\":\"xpath\",\"selector\":\"//*[@id=\"react-root\"]/section/main/div/header/section/ul\"}\n",
      "  (Session info: chrome=89.0.4389.90)\n",
      "\n"
     ]
    },
    {
     "name": "stderr",
     "output_type": "stream",
     "text": [
      " 90%|█████████ | 215/238 [46:13<04:49, 12.60s/it]"
     ]
    },
    {
     "name": "stdout",
     "output_type": "stream",
     "text": [
      "Message: no such element: Unable to locate element: {\"method\":\"xpath\",\"selector\":\"//*[@id=\"react-root\"]/section/main/div/header/section/ul\"}\n",
      "  (Session info: chrome=89.0.4389.90)\n",
      "\n"
     ]
    },
    {
     "name": "stderr",
     "output_type": "stream",
     "text": [
      " 93%|█████████▎| 221/238 [47:28<03:17, 11.61s/it]"
     ]
    },
    {
     "name": "stdout",
     "output_type": "stream",
     "text": [
      "Message: no such element: Unable to locate element: {\"method\":\"xpath\",\"selector\":\"//*[@id=\"react-root\"]/section/main/div/header/section/ul\"}\n",
      "  (Session info: chrome=89.0.4389.90)\n",
      "\n"
     ]
    },
    {
     "name": "stderr",
     "output_type": "stream",
     "text": [
      "100%|██████████| 238/238 [50:46<00:00, 12.80s/it]\n"
     ]
    }
   ],
   "source": [
    "for nick in tqdm(nicks):\n",
    "    follow_pressed = False\n",
    "    try:\n",
    "        t = get_user_info(nick)  #     return posts, followers, following, bio_elem.text\n",
    "        btns = driver.find_elements_by_tag_name('button')\n",
    "        for b in btns:\n",
    "            if b.text == 'Follow':\n",
    "                b.click()\n",
    "                follow_pressed = True\n",
    "                break\n",
    "    except Exception as e:\n",
    "        bugs.append((nick,) + (str(e),))\n",
    "        print(e)\n",
    "        continue\n",
    "    if not follow_pressed:\n",
    "        continue\n",
    "\n",
    "    # format row\n",
    "    row = (nick,) + t + (str(datetime.now()),)\n",
    "    icon = driver.find_elements_by_class_name('smsjF')\n",
    "    row = row + (1,) if icon else row + (0,)  # pubilc cell\n",
    "    people_info.append(row)\n"
   ]
  },
  {
   "cell_type": "code",
   "execution_count": 31,
   "metadata": {},
   "outputs": [],
   "source": [
    "with open('./csv/followed.csv', mode='w') as fp:\n",
    "    writer = csv.writer(fp, delimiter=',', quotechar='\"', quoting=csv.QUOTE_MINIMAL)\n",
    "    for t in people_info:\n",
    "        writer.writerow(t)\n",
    "\n",
    "with open('./csv/bug.csv', mode='w') as fp:\n",
    "    writer = csv.writer(fp, delimiter=',', quotechar='\"', quoting=csv.QUOTE_MINIMAL)\n",
    "    for t in bugs:\n",
    "        writer.writerow(t)        "
   ]
  },
  {
   "cell_type": "markdown",
   "metadata": {},
   "source": [
    "## Active followers\n",
    "People who have reacted to your posts."
   ]
  },
  {
   "cell_type": "code",
   "execution_count": 54,
   "metadata": {},
   "outputs": [
    {
     "name": "stdout",
     "output_type": "stream",
     "text": [
      "Fetching likes of all posts of profile arcangel.zip.\n",
      "<Post CNNrKSLLcyo>\n",
      "<Post CMFjBKgH6ZX>\n",
      "<Post CLFdxCCnJEQ>\n",
      "<Post CJRe7QTnPZY>\n",
      "<Post CFN1zphnen->\n",
      "<Post B_Dl_4-J_Tk>\n",
      "<Post B-DWtuYnSbl>\n",
      "<Post B89r59anrkZ>\n",
      "<Post B82HhRTgQbE>\n",
      "<Post B8rY1Zmq1rh>\n",
      "<Post B4k4Soig2Th>\n",
      "<Post B37pBSRI6qH>\n",
      "<Post B27RHEsoJ3N>\n",
      "<Post B2MlGCoFmah>\n"
     ]
    }
   ],
   "source": [
    "PROFILE = USER\n",
    "profile = instaloader.Profile.from_username(L.context, PROFILE)\n",
    "\n",
    "likes = set()\n",
    "print(\"Fetching likes of all posts of profile {}.\".format(profile.username))\n",
    "for post in profile.get_posts():\n",
    "    print(post)\n",
    "    likes = likes | set(post.get_likes())\n",
    "\n"
   ]
  },
  {
   "cell_type": "code",
   "execution_count": 55,
   "metadata": {},
   "outputs": [
    {
     "data": {
      "text/plain": [
       "{<Profile 15_01_001 (3258544166)>,\n",
       " <Profile 3.s_s_s (29920713782)>,\n",
       " <Profile 3angels.3 (3645321338)>,\n",
       " <Profile __jowisz (3588727427)>,\n",
       " <Profile _andres_glz (607347757)>,\n",
       " <Profile _aris.angel_ (45802382444)>,\n",
       " <Profile _awen9_ (11403233059)>,\n",
       " <Profile _bautistafc25 (1432091754)>,\n",
       " <Profile _e.denisse (32950632)>,\n",
       " <Profile _eimlka_ (354021121)>,\n",
       " <Profile _howlettjames (435488756)>,\n",
       " <Profile _iampolaris_ (312064794)>,\n",
       " <Profile _jimenaperalta (3122905893)>,\n",
       " <Profile _ken_hye (3298152626)>,\n",
       " <Profile _maaira3 (3136685700)>,\n",
       " <Profile _meinthesea (36271893)>,\n",
       " <Profile _paupacheco (1267434741)>,\n",
       " <Profile _xmarinx (1246074007)>,\n",
       " <Profile _xresilienciax_ (5496037902)>,\n",
       " <Profile _yess.tart_ (3058912933)>,\n",
       " <Profile a.a_jatzibe (19080382499)>,\n",
       " <Profile a_vctrhg (1795012818)>,\n",
       " <Profile aamacalli_ (3163869120)>,\n",
       " <Profile aangelitatorres22 (3137800562)>,\n",
       " <Profile abapok (2246539234)>,\n",
       " <Profile abii_lv (4104843741)>,\n",
       " <Profile abz_fatemeh (15400315249)>,\n",
       " <Profile adriaan.lares (1030715674)>,\n",
       " <Profile adrian.jdz (414901438)>,\n",
       " <Profile adriangp.ko (2279788731)>,\n",
       " <Profile adrianmarquez_official (1735143775)>,\n",
       " <Profile alan_bracamontes_mc (26767173379)>,\n",
       " <Profile albertogfontes (3507617391)>,\n",
       " <Profile ale_.cervantes (2991243852)>,\n",
       " <Profile ale_alejandro_molina (411130167)>,\n",
       " <Profile alee_gonzalez_t (1650331289)>,\n",
       " <Profile alejandra_loopezz (3592119012)>,\n",
       " <Profile alejav_13 (1621078848)>,\n",
       " <Profile alejohdezwho (191146616)>,\n",
       " <Profile aleli_ramos_vazquez (7421588170)>,\n",
       " <Profile alex04p (423467903)>,\n",
       " <Profile alexis_avila87 (1588044251)>,\n",
       " <Profile alexis_gsc (1705728482)>,\n",
       " <Profile alfred_cuau (2214329155)>,\n",
       " <Profile alfred_vzqz (1264174517)>,\n",
       " <Profile aliceycho_ (468607130)>,\n",
       " <Profile alinaa.rangel (204030950)>,\n",
       " <Profile almayos_8 (6590014647)>,\n",
       " <Profile alonso.to (5933032306)>,\n",
       " <Profile analuisa_sm14 (446671971)>,\n",
       " <Profile andrew_cris10 (2062888852)>,\n",
       " <Profile andrxe_gcc (2762946210)>,\n",
       " <Profile anetmaskova (864503949)>,\n",
       " <Profile angel.arell (4070970892)>,\n",
       " <Profile angel_gdx7 (3952289326)>,\n",
       " <Profile angelesariatna (329784712)>,\n",
       " <Profile anita_cruz09 (882002341)>,\n",
       " <Profile annaposible (5646368414)>,\n",
       " <Profile anndy.xd (425183065)>,\n",
       " <Profile antje.sbr (10089672562)>,\n",
       " <Profile antonio_lopez_xd (1901341485)>,\n",
       " <Profile aqui.depaso (4162744609)>,\n",
       " <Profile arantxa_serafin (3179187033)>,\n",
       " <Profile arcangel.zip (3625553720)>,\n",
       " <Profile arenmisita (1696226213)>,\n",
       " <Profile ariis_abundiz (5565690493)>,\n",
       " <Profile asier_ramos (1171035159)>,\n",
       " <Profile atziriprzg (7219268517)>,\n",
       " <Profile axelhurt (1454583459)>,\n",
       " <Profile aziz.q_ (7021991943)>,\n",
       " <Profile azizisbored (1821576809)>,\n",
       " <Profile azu.schz (1167357085)>,\n",
       " <Profile baystreeters (1765786681)>,\n",
       " <Profile bazan_ac4 (6966080345)>,\n",
       " <Profile benjaminnanez (805620220)>,\n",
       " <Profile bensmile_fit (45812177469)>,\n",
       " <Profile beretxiki (933858063)>,\n",
       " <Profile bluestamuerto (2901514400)>,\n",
       " <Profile br_olivo (13454946911)>,\n",
       " <Profile brau_da (8780259766)>,\n",
       " <Profile brayan_aguilera25 (3556060308)>,\n",
       " <Profile brdlvska (1146223704)>,\n",
       " <Profile bren.ramirez_20 (5607081106)>,\n",
       " <Profile bren_sanchezr (16478490965)>,\n",
       " <Profile brenda_arlenn (4585142506)>,\n",
       " <Profile brendiita_mndz (1331454251)>,\n",
       " <Profile briandagarciag (1571559942)>,\n",
       " <Profile bx.lieve (3304881083)>,\n",
       " <Profile bxrx.mh (1999379549)>,\n",
       " <Profile c.crz17 (863332483)>,\n",
       " <Profile camila_valenz (3229849790)>,\n",
       " <Profile camilamartinez6972 (9375679822)>,\n",
       " <Profile capdia1512 (21481989767)>,\n",
       " <Profile carlos_2712 (144401834)>,\n",
       " <Profile carlos_alfg (3971232524)>,\n",
       " <Profile carlos_eduardo_arenas (4162825619)>,\n",
       " <Profile carloschino_ (1065801481)>,\n",
       " <Profile caro_ort1z (5434856617)>,\n",
       " <Profile carolinamtzr (1667569359)>,\n",
       " <Profile caroo__uwu (2071502185)>,\n",
       " <Profile cbarreto1 (516760212)>,\n",
       " <Profile ceytannvr (759388444)>,\n",
       " <Profile charliedndz (6033318989)>,\n",
       " <Profile chazmtb (4174286941)>,\n",
       " <Profile chineusk (29371361016)>,\n",
       " <Profile cintiaestefania30 (2889811458)>,\n",
       " <Profile claudia_ajetuputamdre_fuentes (2092475061)>,\n",
       " <Profile compilandoconocimiento (4246709524)>,\n",
       " <Profile cosmicfh4 (5530712902)>,\n",
       " <Profile crazyjaneth (3297551210)>,\n",
       " <Profile cri5castro (8324087969)>,\n",
       " <Profile cristel.al (2217473454)>,\n",
       " <Profile cristianborovoy (6749405065)>,\n",
       " <Profile criztianreyes (541311901)>,\n",
       " <Profile ctaape.exe (30244251444)>,\n",
       " <Profile cynthiuri (215122205)>,\n",
       " <Profile dafnememe28 (270471994)>,\n",
       " <Profile damian_guilbert (39135265484)>,\n",
       " <Profile dani___california (214669241)>,\n",
       " <Profile daniel.apatiga (1501345064)>,\n",
       " <Profile daniel_salayandia (3630305325)>,\n",
       " <Profile daniela.lnz (284640393)>,\n",
       " <Profile daniela.prague (8278439208)>,\n",
       " <Profile danielaromero._.c (2029502041)>,\n",
       " <Profile danna_madrid98 (2130420874)>,\n",
       " <Profile danna_sanchez_01 (7278526588)>,\n",
       " <Profile dannapaulina07 (11825253290)>,\n",
       " <Profile darknees_queen13 (677665173)>,\n",
       " <Profile david.alun (992059991)>,\n",
       " <Profile david.ed.juarez (4544346686)>,\n",
       " <Profile david__bautista (454536378)>,\n",
       " <Profile davidfajardo43 (579904157)>,\n",
       " <Profile dayana_056 (1401150466)>,\n",
       " <Profile dchateaur (8403311129)>,\n",
       " <Profile dianabelen_hdz (6340061884)>,\n",
       " <Profile diannalair (682705673)>,\n",
       " <Profile diegof_dbc (3030542794)>,\n",
       " <Profile dime.kai (631412137)>,\n",
       " <Profile dimemadrigal (2538690709)>,\n",
       " <Profile donostifoodies (2129641847)>,\n",
       " <Profile dulce_sanchezm (5633631671)>,\n",
       " <Profile duls_n.n (10685606043)>,\n",
       " <Profile e0806 (1495137205)>,\n",
       " <Profile edlopezg__ (3579562055)>,\n",
       " <Profile einermayorgah (1728828544)>,\n",
       " <Profile el_oreo23 (1067814451)>,\n",
       " <Profile elchicocombustion (8110156289)>,\n",
       " <Profile eldainasol (5357861265)>,\n",
       " <Profile eldela2blea._ (4279286870)>,\n",
       " <Profile elimora1238 (7811007161)>,\n",
       " <Profile emgp8816 (6221063053)>,\n",
       " <Profile emm_mr79 (5375830779)>,\n",
       " <Profile emroloz (2042767331)>,\n",
       " <Profile emties_ (3034186253)>,\n",
       " <Profile enrique_rinke (4225017800)>,\n",
       " <Profile erickayseult (2533665584)>,\n",
       " <Profile erickrivera73 (1970572392)>,\n",
       " <Profile erickvazuquez (13370472370)>,\n",
       " <Profile erikrivera96 (29912227033)>,\n",
       " <Profile eshwarkhatri (921436915)>,\n",
       " <Profile esli_granger (1719408880)>,\n",
       " <Profile eunicemoralesg (3057041321)>,\n",
       " <Profile evazquezo_o (2067730435)>,\n",
       " <Profile evelingaribay20 (303283899)>,\n",
       " <Profile everythingaisha (9657657262)>,\n",
       " <Profile exis.angel (8671049739)>,\n",
       " <Profile expedita.nascimento (434884577)>,\n",
       " <Profile ezequiel.quinteros7 (1423679909)>,\n",
       " <Profile fanny_c.v (1440315213)>,\n",
       " <Profile fanny_dcz (444845838)>,\n",
       " <Profile fatiisanchez13 (1531183886)>,\n",
       " <Profile feer_garzon1 (5631615877)>,\n",
       " <Profile felipe_juarec (4278523045)>,\n",
       " <Profile fer.cast43 (5943134987)>,\n",
       " <Profile fer_ram (288285778)>,\n",
       " <Profile fergy.gorra (1176829259)>,\n",
       " <Profile fernananda_albarran (2007478769)>,\n",
       " <Profile fernanda_lastiri_ (1823897092)>,\n",
       " <Profile ferral_ccin (16833782526)>,\n",
       " <Profile fhabhi_puma (1918065189)>,\n",
       " <Profile flaviabonati (271853435)>,\n",
       " <Profile floweeers_and (34410352193)>,\n",
       " <Profile fugalkev (2719633939)>,\n",
       " <Profile gabriela_v099 (1580473643)>,\n",
       " <Profile gabs_arreola10 (4337429594)>,\n",
       " <Profile gaby_bj8 (6093668077)>,\n",
       " <Profile gaelmtz_25 (14070195804)>,\n",
       " <Profile galilea_vilches (52536326)>,\n",
       " <Profile ganonino61 (4832831292)>,\n",
       " <Profile gap_cp (2135897125)>,\n",
       " <Profile garcia_aleyne (8365416810)>,\n",
       " <Profile gbenitagabriela (820693358)>,\n",
       " <Profile gelatina_de_limoon (1804023595)>,\n",
       " <Profile geral_vmen (541669389)>,\n",
       " <Profile ghalo_loretto (4736997268)>,\n",
       " <Profile girl.in.milan (3941395445)>,\n",
       " <Profile gle_zb (20233254716)>,\n",
       " <Profile govea.km (4624615801)>,\n",
       " <Profile grey.xd (698653814)>,\n",
       " <Profile guadalupe___rodriguez (7011100079)>,\n",
       " <Profile h.rojasaguilar (5627528375)>,\n",
       " <Profile h3art_lesz (5710914046)>,\n",
       " <Profile hannifkrg (55085336)>,\n",
       " <Profile hanys_ov (5691204988)>,\n",
       " <Profile haval_shn95 (6189011343)>,\n",
       " <Profile hayakawa_daichi (44784549478)>,\n",
       " <Profile hector_rgs (3537924303)>,\n",
       " <Profile heidi_d_castillo (1365377280)>,\n",
       " <Profile hola_paola16 (457237384)>,\n",
       " <Profile iam_ameeelie (2047221681)>,\n",
       " <Profile ianaeth (503406902)>,\n",
       " <Profile iangtzzz (1925680714)>,\n",
       " <Profile idsa2316 (3518751867)>,\n",
       " <Profile igabirondo16 (1491821615)>,\n",
       " <Profile imf3r (32467281)>,\n",
       " <Profile ing_anasaldana (220621106)>,\n",
       " <Profile ingravedad (843031310)>,\n",
       " <Profile inigo_l7 (4116921013)>,\n",
       " <Profile irais.had (1096982348)>,\n",
       " <Profile ire_bere_rm (2001637342)>,\n",
       " <Profile irina.naymenkoff (2199405846)>,\n",
       " <Profile irviing2003 (6699052110)>,\n",
       " <Profile isaac_npv (5458753994)>,\n",
       " <Profile isaai_paredes_ (467189930)>,\n",
       " <Profile isabellamalpighi (8642939638)>,\n",
       " <Profile islas801 (8478114188)>,\n",
       " <Profile issa_khaan (6062319241)>,\n",
       " <Profile its_joseph22 (3597757850)>,\n",
       " <Profile its_ximm (2008483612)>,\n",
       " <Profile itsnagi_ (1495275074)>,\n",
       " <Profile itzelarit (458501364)>,\n",
       " <Profile itzz_hg (2991825973)>,\n",
       " <Profile itzzz_anand (2049759981)>,\n",
       " <Profile ivan_monreal25 (2118979851)>,\n",
       " <Profile ixe.exe (968798210)>,\n",
       " <Profile jacielsan (1744064262)>,\n",
       " <Profile jambelli (45799048)>,\n",
       " <Profile janethersot (277273790)>,\n",
       " <Profile janneth_floresr (1100241928)>,\n",
       " <Profile jauureee (4459648786)>,\n",
       " <Profile javo.young (4358629191)>,\n",
       " <Profile jazibgarvez (14205212230)>,\n",
       " <Profile jenni.reyes.jr (710728853)>,\n",
       " <Profile jenniferciita_bautista (6100592198)>,\n",
       " <Profile jesusbart_ (350113808)>,\n",
       " <Profile jesusmarroquin.rar (1673041944)>,\n",
       " <Profile jesustorrijos7 (1563730022)>,\n",
       " <Profile jhovaco_ (23818211795)>,\n",
       " <Profile jimee.mena (24881260)>,\n",
       " <Profile jimena3055 (1969932214)>,\n",
       " <Profile joana.om98 (19567108245)>,\n",
       " <Profile joel_edg (1312159720)>,\n",
       " <Profile johanari0s (6882812096)>,\n",
       " <Profile jonn_sm31 (2689160354)>,\n",
       " <Profile jorel_sg (2535941098)>,\n",
       " <Profile jorgiuxgarcia (7581433096)>,\n",
       " <Profile joyce_jasro_ (1996285373)>,\n",
       " <Profile ju__ma_ (937961655)>,\n",
       " <Profile juandarango (267371073)>,\n",
       " <Profile juanesverano (1445750401)>,\n",
       " <Profile julilabari (550397752)>,\n",
       " <Profile julioarias82 (243517055)>,\n",
       " <Profile juohanhdz (1788455994)>,\n",
       " <Profile jupiiterdrops (226168856)>,\n",
       " <Profile justinmooooi (441979756)>,\n",
       " <Profile jxvier.mojica (3433459134)>,\n",
       " <Profile karla.dns (2063485704)>,\n",
       " <Profile karla_jett23 (2535490808)>,\n",
       " <Profile karla_lizbeth05 (44996869)>,\n",
       " <Profile karlaesquildo (8933188762)>,\n",
       " <Profile karlamariana03 (3432825354)>,\n",
       " <Profile karlat1000 (2992515047)>,\n",
       " <Profile karlazsc (210538170)>,\n",
       " <Profile karly_tscn (1510622738)>,\n",
       " <Profile katlijnevh (244840244)>,\n",
       " <Profile ken_darkwolf (1790821422)>,\n",
       " <Profile kennnurdiese (41455956120)>,\n",
       " <Profile ketzali15 (1289648087)>,\n",
       " <Profile kevin.berard.dj (7643467225)>,\n",
       " <Profile kina_morales_04 (22207411815)>,\n",
       " <Profile kuba.tomko (6213913301)>,\n",
       " <Profile la_ros.alia (5627508120)>,\n",
       " <Profile laumaravilla7u7r (5917306840)>,\n",
       " <Profile ldpm21 (9238504691)>,\n",
       " <Profile leonnoraflores (39277150)>,\n",
       " <Profile leslyects (6294691801)>,\n",
       " <Profile lexrammart (1094107477)>,\n",
       " <Profile ligia.palsxxv (281054877)>,\n",
       " <Profile lilianaacorm (1477571025)>,\n",
       " <Profile liz.bldrs (208112480)>,\n",
       " <Profile lizri1497 (1116404194)>,\n",
       " <Profile lizzamperio (3086090194)>,\n",
       " <Profile lizzt_ad (1084819026)>,\n",
       " <Profile lnnaiz (9146306242)>,\n",
       " <Profile lonely_deadman (5967637853)>,\n",
       " <Profile loretto.naukova (7633517001)>,\n",
       " <Profile lucioroberto_lr (3110002732)>,\n",
       " <Profile luis._.flor3s (1768618605)>,\n",
       " <Profile luis_e_landin (4198963223)>,\n",
       " <Profile luis_elosegui (464334415)>,\n",
       " <Profile luisangl_gar (437484746)>,\n",
       " <Profile luisdelvillar.13 (7992529570)>,\n",
       " <Profile luisilloelpirulillo (4977316573)>,\n",
       " <Profile luispavelvarela (509233661)>,\n",
       " <Profile lukaskodlos_coach (2116987451)>,\n",
       " <Profile lupita11_25 (10648598556)>,\n",
       " <Profile lynahdz (3561869026)>,\n",
       " <Profile maarydeniz (1435656978)>,\n",
       " <Profile mafer_herag (495916749)>,\n",
       " <Profile mahmoudalzraidi (15713361711)>,\n",
       " <Profile marberryx73 (43999643992)>,\n",
       " <Profile marcos.aesthetic (1320118960)>,\n",
       " <Profile marflva (2312910410)>,\n",
       " <Profile mariano.eg (1412723539)>,\n",
       " <Profile mariela.diaz.129 (8914805178)>,\n",
       " <Profile mariemreau (374569435)>,\n",
       " <Profile marifer_martinez_uwu (3166366013)>,\n",
       " <Profile marii_hp0409 (6966117134)>,\n",
       " <Profile mariizaras (3668083085)>,\n",
       " <Profile mariowsky_bautista (1946548346)>,\n",
       " <Profile marisasteroid (39459723)>,\n",
       " <Profile marthyn28 (1197168098)>,\n",
       " <Profile marymonss (1211966615)>,\n",
       " <Profile marysounds (194979397)>,\n",
       " <Profile matadorr.salas (6181712760)>,\n",
       " <Profile mau_1mx (3459769774)>,\n",
       " <Profile mauricegutierre (1746102502)>,\n",
       " <Profile mauricio__0328 (7090435285)>,\n",
       " <Profile mauricio_bandala (7004589056)>,\n",
       " <Profile mayis.coom (1244380922)>,\n",
       " <Profile mayrasho (267620413)>,\n",
       " <Profile mcskelter (585049260)>,\n",
       " <Profile melania_m80 (46053692441)>,\n",
       " <Profile melanibetsabee (1395383809)>,\n",
       " <Profile melendez_jony22 (2060319152)>,\n",
       " <Profile mennuccicristiano (180955777)>,\n",
       " <Profile mi.skylover (12340993799)>,\n",
       " <Profile michael_fuen (3684869192)>,\n",
       " <Profile micky_landeta (1656040323)>,\n",
       " <Profile mimisaintemarie (38542347418)>,\n",
       " <Profile minimon.para_to2 (8153572607)>,\n",
       " <Profile mirihp3 (6104566689)>,\n",
       " <Profile mmfmv (1318530671)>,\n",
       " <Profile monica_ijv (1412332354)>,\n",
       " <Profile mony_buckland (2110207775)>,\n",
       " <Profile moonchild_957 (11677914351)>,\n",
       " <Profile mordan.10 (2223128305)>,\n",
       " <Profile musicalestlnv (19110906218)>,\n",
       " <Profile mxrcx.z (29640491)>,\n",
       " <Profile myrneschapendonk (265934768)>,\n",
       " <Profile nagore_fulei (2133367524)>,\n",
       " <Profile nahnava3 (6984346733)>,\n",
       " <Profile nancy_naomy314 (5504053313)>,\n",
       " <Profile nando.hamilton (327865181)>,\n",
       " <Profile nat_moni (3523147903)>,\n",
       " <Profile nayomi_miller (1486729273)>,\n",
       " <Profile nikky.aguilar08 (282538425)>,\n",
       " <Profile noemi.mara (2215800177)>,\n",
       " <Profile nohemiantonionicolas (32470253034)>,\n",
       " <Profile oinusukii__ (1410094783)>,\n",
       " <Profile oscaar_xl (453797138)>,\n",
       " <Profile oscarsg08 (638477811)>,\n",
       " <Profile osvaldo_isaac_ (21400954407)>,\n",
       " <Profile pamela_sugey (1932914687)>,\n",
       " <Profile pamhachem (375288098)>,\n",
       " <Profile paolinesm (508524992)>,\n",
       " <Profile paris.is.unbelievable (46945965783)>,\n",
       " <Profile parisexplorer (21191979)>,\n",
       " <Profile paucortes8 (1431805902)>,\n",
       " <Profile penelope_myqueen (198682986)>,\n",
       " <Profile phot.o8219 (32241476064)>,\n",
       " <Profile pmld21 (845215680)>,\n",
       " <Profile raaaaaaaaaaaami (33622215105)>,\n",
       " <Profile rafaelmusule (2017657126)>,\n",
       " <Profile rafaelrom12 (2539638632)>,\n",
       " <Profile rameedal (5987390232)>,\n",
       " <Profile ramitheflyboy (33073080298)>,\n",
       " <Profile raquel._.rq (688851563)>,\n",
       " <Profile raul_maj (8170058057)>,\n",
       " <Profile rey_arturo777 (994189919)>,\n",
       " <Profile reyes.anaiiram (5642482519)>,\n",
       " <Profile ricardo.parangueo (452218057)>,\n",
       " <Profile rodd_cc (1437518940)>,\n",
       " <Profile rodrigo_leon.hdz (467615547)>,\n",
       " <Profile roera_p (1901819147)>,\n",
       " <Profile rojasomar_ (500053176)>,\n",
       " <Profile rouseegf (288928478)>,\n",
       " <Profile roxana_garco (7334299884)>,\n",
       " <Profile ruben__1256 (26042859385)>,\n",
       " <Profile rubi_murillo20 (45217247302)>,\n",
       " <Profile rubycarmonaa (1925848083)>,\n",
       " <Profile said_alvarez_mendoza_ (3185216637)>,\n",
       " <Profile sammy_leyvaa (32173125717)>,\n",
       " <Profile samurai_traveler_kj (28144264006)>,\n",
       " <Profile sandycalderon.99 (15206024328)>,\n",
       " <Profile santiago.jz (8656351946)>,\n",
       " <Profile sara.diaz89 (6770256325)>,\n",
       " <Profile seidiisa (200917587)>,\n",
       " <Profile selene__moon (371689988)>,\n",
       " <Profile seulementparis (2235932386)>,\n",
       " <Profile shadows_maker (2363714740)>,\n",
       " <Profile sinai._ssd (19548055789)>,\n",
       " <Profile sinnesstra (1379981533)>,\n",
       " <Profile sm3llydog_swd (8270826950)>,\n",
       " <Profile sof_gaba (1293015574)>,\n",
       " <Profile sone_hines (8623446576)>,\n",
       " <Profile srake (36346912)>,\n",
       " <Profile sri_tulasi_pinnamaneni (4473114822)>,\n",
       " <Profile steefmiranda (843405812)>,\n",
       " <Profile steph_lu07 (1615591913)>,\n",
       " <Profile stephany.salas.97 (7460993871)>,\n",
       " <Profile sxr.quvd (1504412648)>,\n",
       " <Profile tamaniwane (1534304487)>,\n",
       " <Profile tanya_orlyk (1670959987)>,\n",
       " <Profile taylor_rai_ (3281620331)>,\n",
       " <Profile tepetlanmunguia (2326638059)>,\n",
       " <Profile thalia_xotla (4134501808)>,\n",
       " <Profile the_big_k95 (2299391966)>,\n",
       " <Profile the_cebuanamama (206388604)>,\n",
       " <Profile times1998_ (8337781411)>,\n",
       " <Profile tolgaakar__ (1996060316)>,\n",
       " <Profile tovis_gaby (8199090845)>,\n",
       " <Profile travelkudos (5851015150)>,\n",
       " <Profile tuaburridofav (440479089)>,\n",
       " <Profile uchija_temari13 (17941811218)>,\n",
       " <Profile uriel_yo13 (522475831)>,\n",
       " <Profile valeewr (5594842302)>,\n",
       " <Profile valeria_lv7 (1518525149)>,\n",
       " <Profile valeria_rys (1712344820)>,\n",
       " <Profile valeriaadams (26198332)>,\n",
       " <Profile valgarih (494843798)>,\n",
       " <Profile vane_gtz99 (3068053286)>,\n",
       " <Profile venus_bert (1437361603)>,\n",
       " <Profile viajeroextranjero (8398363319)>,\n",
       " <Profile victorlopezz3 (3015857070)>,\n",
       " <Profile vimench125 (18253382499)>,\n",
       " <Profile vizuelito_mix (4811815703)>,\n",
       " <Profile waldorf.kim_ (3053968521)>,\n",
       " <Profile watanukiichihara (23850409486)>,\n",
       " <Profile woosandy (1329461701)>,\n",
       " <Profile xximena_b (274893275)>,\n",
       " <Profile yamelfragoso (1355282313)>,\n",
       " <Profile yams.trawberry (1759769535)>,\n",
       " <Profile yesenia__campos (492509650)>,\n",
       " <Profile yoentropia (15192228710)>,\n",
       " <Profile yordanka.n (2139399700)>,\n",
       " <Profile youareinlove.1989 (2346379980)>,\n",
       " <Profile your.fuckin.sour.cherry (5361612178)>,\n",
       " <Profile zandrawithzeta (186955150)>,\n",
       " <Profile zedferir_zxjal (208153379)>,\n",
       " <Profile zerorex14 (477087150)>,\n",
       " <Profile zitlalli_lg (1780950527)>,\n",
       " <Profile zulle_c (1953487997)>}"
      ]
     },
     "execution_count": 55,
     "metadata": {},
     "output_type": "execute_result"
    }
   ],
   "source": [
    "likes"
   ]
  },
  {
   "cell_type": "code",
   "execution_count": 57,
   "metadata": {},
   "outputs": [
    {
     "name": "stdout",
     "output_type": "stream",
     "text": [
      "Storing active users into file.\n"
     ]
    }
   ],
   "source": [
    "print(\"Storing active users into file.\")\n",
    "with open(\"active-users.txt\", 'w') as f:\n",
    "    for user in likes:\n",
    "        print(user.username, file=f)"
   ]
  },
  {
   "cell_type": "code",
   "execution_count": 56,
   "metadata": {},
   "outputs": [
    {
     "name": "stdout",
     "output_type": "stream",
     "text": [
      "Fetching followers of profile arcangel.zip.\n",
      "Storing ghosts into file.\n"
     ]
    }
   ],
   "source": [
    "print(\"Fetching followers of profile {}.\".format(profile.username))\n",
    "followers = set(profile.get_followers())\n",
    "\n",
    "ghosts = followers - likes\n",
    "\n",
    "print(\"Storing ghosts into file.\")\n",
    "with open(\"inactive-users.txt\", 'w') as f:\n",
    "    for ghost in ghosts:\n",
    "        print(ghost.username, file=f)"
   ]
  },
  {
   "cell_type": "code",
   "execution_count": 63,
   "metadata": {},
   "outputs": [],
   "source": [
    "for u in likes:\n",
    "    pass"
   ]
  },
  {
   "cell_type": "code",
   "execution_count": 73,
   "metadata": {},
   "outputs": [],
   "source": [
    "posts = profile.get_posts()"
   ]
  },
  {
   "cell_type": "code",
   "execution_count": 77,
   "metadata": {},
   "outputs": [],
   "source": [
    "for p in posts:\n",
    "    break"
   ]
  },
  {
   "cell_type": "code",
   "execution_count": 80,
   "metadata": {},
   "outputs": [
    {
     "data": {
      "text/plain": [
       "datetime.datetime(2019, 9, 9, 16, 6, 33)"
      ]
     },
     "execution_count": 80,
     "metadata": {},
     "output_type": "execute_result"
    }
   ],
   "source": [
    "p.date"
   ]
  },
  {
   "cell_type": "code",
   "execution_count": 81,
   "metadata": {},
   "outputs": [
    {
     "data": {
      "text/plain": [
       "instaloader.nodeiterator.NodeIterator"
      ]
     },
     "execution_count": 81,
     "metadata": {},
     "output_type": "execute_result"
    }
   ],
   "source": [
    "type(posts)"
   ]
  },
  {
   "cell_type": "code",
   "execution_count": 83,
   "metadata": {},
   "outputs": [
    {
     "data": {
      "text/plain": [
       "datetime.datetime(2021, 4, 21, 21, 46, 44, 714024)"
      ]
     },
     "execution_count": 83,
     "metadata": {},
     "output_type": "execute_result"
    }
   ],
   "source": [
    "now"
   ]
  },
  {
   "cell_type": "code",
   "execution_count": null,
   "metadata": {},
   "outputs": [],
   "source": []
  }
 ],
 "metadata": {
  "kernelspec": {
   "display_name": "Python 3",
   "language": "python",
   "name": "python3"
  },
  "language_info": {
   "codemirror_mode": {
    "name": "ipython",
    "version": 3
   },
   "file_extension": ".py",
   "mimetype": "text/x-python",
   "name": "python",
   "nbconvert_exporter": "python",
   "pygments_lexer": "ipython3",
   "version": "3.7.6"
  }
 },
 "nbformat": 4,
 "nbformat_minor": 4
}
