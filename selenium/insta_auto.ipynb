{
 "cells": [
  {
   "cell_type": "code",
   "execution_count": 14,
   "metadata": {},
   "outputs": [
    {
     "name": "stdout",
     "output_type": "stream",
     "text": [
      "Collecting webdriver-manager\n",
      "  Downloading webdriver_manager-3.2.2-py2.py3-none-any.whl (16 kB)\n",
      "Collecting configparser\n",
      "  Downloading configparser-5.0.1-py3-none-any.whl (22 kB)\n",
      "Requirement already satisfied: requests in /home/aingeru/anaconda3/lib/python3.7/site-packages (from webdriver-manager) (2.22.0)\n",
      "Collecting crayons\n",
      "  Downloading crayons-0.4.0-py2.py3-none-any.whl (4.6 kB)\n",
      "Requirement already satisfied: certifi>=2017.4.17 in /home/aingeru/anaconda3/lib/python3.7/site-packages (from requests->webdriver-manager) (2019.11.28)\n",
      "Requirement already satisfied: idna<2.9,>=2.5 in /home/aingeru/anaconda3/lib/python3.7/site-packages (from requests->webdriver-manager) (2.8)\n",
      "Requirement already satisfied: chardet<3.1.0,>=3.0.2 in /home/aingeru/anaconda3/lib/python3.7/site-packages (from requests->webdriver-manager) (3.0.4)\n",
      "Requirement already satisfied: urllib3!=1.25.0,!=1.25.1,<1.26,>=1.21.1 in /home/aingeru/anaconda3/lib/python3.7/site-packages (from requests->webdriver-manager) (1.25.8)\n",
      "Requirement already satisfied: colorama in /home/aingeru/anaconda3/lib/python3.7/site-packages (from crayons->webdriver-manager) (0.4.3)\n",
      "Installing collected packages: configparser, crayons, webdriver-manager\n",
      "Successfully installed configparser-5.0.1 crayons-0.4.0 webdriver-manager-3.2.2\n"
     ]
    }
   ],
   "source": [
    "!pip install webdriver-manager\n"
   ]
  },
  {
   "cell_type": "markdown",
   "metadata": {},
   "source": [
    "# InstaBot\n",
    "Instagram bot and scrapper with the finality of winning more followers"
   ]
  },
  {
   "cell_type": "code",
   "execution_count": 1,
   "metadata": {},
   "outputs": [],
   "source": [
    "\n",
    "import random\n",
    "import sys\n",
    "import time\n",
    "import os\n",
    "import csv\n",
    "\n",
    "import pandas as pd\n",
    "\n",
    "\n",
    "import Credential\n",
    "\n",
    "from selenium import webdriver\n",
    "from selenium.webdriver.common.keys import Keys\n",
    "from selenium.common.exceptions import NoSuchElementException\n",
    "\n",
    "from tqdm import tqdm\n",
    "\n"
   ]
  },
  {
   "cell_type": "code",
   "execution_count": 2,
   "metadata": {},
   "outputs": [
    {
     "name": "stderr",
     "output_type": "stream",
     "text": [
      "[WDM] - Current google-chrome version is 86.0.4240\n",
      "[WDM] - Get LATEST driver version for 86.0.4240\n"
     ]
    },
    {
     "name": "stdout",
     "output_type": "stream",
     "text": [
      " \n"
     ]
    },
    {
     "name": "stderr",
     "output_type": "stream",
     "text": [
      "[WDM] - Driver [/home/aingeru/.wdm/drivers/chromedriver/linux64/86.0.4240.22/chromedriver] found in cache\n"
     ]
    }
   ],
   "source": [
    "#\n",
    "#pip install webdriver-manager\n",
    "from selenium import webdriver\n",
    "from webdriver_manager.chrome import ChromeDriverManager\n",
    "\n",
    "driver = webdriver.Chrome(ChromeDriverManager().install())"
   ]
  },
  {
   "cell_type": "markdown",
   "metadata": {},
   "source": [
    "# Login "
   ]
  },
  {
   "cell_type": "code",
   "execution_count": 3,
   "metadata": {},
   "outputs": [],
   "source": [
    "def login(driver, username, password):\n",
    "    driver.get(\"https://www.instagram.com/\")\n",
    "    time.sleep(2)\n",
    "    # login_button = driver.find_element_by_xpath(\"//a[@href='/accounts/login/?source=auth_switcher']\")\n",
    "    # login_button.click()\n",
    "    # time.sleep(2)\n",
    "    user_name_elem = driver.find_element_by_xpath(\"//input[@name='username']\")\n",
    "    user_name_elem.clear()\n",
    "    user_name_elem.send_keys(username)\n",
    "    password_elem = driver.find_element_by_xpath(\"//input[@name='password']\")\n",
    "    password_elem.clear()\n",
    "    password_elem.send_keys(password)\n",
    "    password_elem.send_keys(Keys.RETURN)\n",
    "    time.sleep(2)\n",
    "    \n"
   ]
  },
  {
   "cell_type": "code",
   "execution_count": 4,
   "metadata": {
    "scrolled": true
   },
   "outputs": [],
   "source": [
    "# driver = webdriver.Chrome('./chromedriver')\n",
    "username = Credential.username\n",
    "password = Credential.password\n",
    "login(driver, username, password)"
   ]
  },
  {
   "cell_type": "markdown",
   "metadata": {},
   "source": [
    "# Like comments\n",
    "Like all comments in a post"
   ]
  },
  {
   "cell_type": "code",
   "execution_count": 92,
   "metadata": {},
   "outputs": [],
   "source": [
    "'''\n",
    "Action blocked html \n",
    "<div class=\"pbNvD  fPMEg   \" role=\"dialog\">\n",
    "    <div class=\"piCib\">\n",
    "        <div class=\"_08v79\">\n",
    "            <h3 class=\"_7UhW9     LjQVu     qyrsm KV-D4        uL8Hv         \">\n",
    "                Action Blocked\n",
    "            </h3>\n",
    "            <div class=\"_7UhW9   xLCgt      MMzan   _0PwGv       uL8Hv         \">\n",
    "                This action was blocked. Please try again later. We restrict certain content and actions to protect our community. Tell us if you think we made a mistake.</div></div><div class=\"mt3GC\"><button class=\"aOOlW  bIiDR  \" tabindex=\"0\">Report a Problem</button><button class=\"aOOlW   HoLwm \" tabindex=\"0\">OK</button></div></div></div>\n",
    "'''\n",
    "def deal_blocked_action():\n",
    "    div = driver.find_element_by_class_name('mt3GC')\n",
    "    btn = div.find_elements_by_tag_name('button')\n",
    "    button_ok = btn[1].click()"
   ]
  },
  {
   "cell_type": "code",
   "execution_count": 97,
   "metadata": {},
   "outputs": [],
   "source": [
    "def __load_comments(n, delay=2):\n",
    "    '''Click the watch more comments in the post n times'''\n",
    "    print(f'There are {n} comments, loading them...')\n",
    "    n = n // 12  # 12 comments updated at time\n",
    "    for _ in tqdm(range(n), total=n, position=0, leave=True):  # force the tqdm bar to stay in the same line with position=0 and leave=True\n",
    "        try:\n",
    "            btn = driver.find_element_by_xpath(\"//button[@class='dCJp8 afkep']\")\n",
    "        except NoSuchElementException as e:\n",
    "            break  # we have all the comments loaded\n",
    "        btn.click()\n",
    "        time.sleep(delay)\n",
    "\n",
    "def __love_comment(comment):\n",
    "    svgs = comment.find_elements_by_tag_name('svg')\n",
    "    for svg in svgs:\n",
    "        attr = svg.get_attribute('aria-label')\n",
    "        if attr == 'Unlike':  # we've loved the button\n",
    "            return True\n",
    "        elif attr == 'Like':\n",
    "            try:\n",
    "                svg.click()\n",
    "            except Exception as e:\n",
    "                print(\"[!] IG got angry man, stop\")  # love click limit reached\n",
    "                return False\n",
    "            return True\n",
    "        \n",
    "def __get_nick_from_comment(ul_comment):\n",
    "    h3 = ul_comment.find_element_by_tag_name('h3')\n",
    "    a = h3.find_element_by_tag_name('a')\n",
    "    return a.text\n",
    "\n",
    "def __load_previous_nicknames_loved():\n",
    "    if os.path.exists('loved.txt'):  # we have loved previous comments\n",
    "        fname = 'loved.txt'\n",
    "        with open(fname, 'r') as fp:\n",
    "            loved = set(x for x in fp.read().split('\\n'))\n",
    "        loved.remove('') \n",
    "        print(f'{len(loved)} already loved')\n",
    "        return loved\n",
    "    return None\n",
    "    \n",
    "def like_comments(url, comments_count, loaded=False):\n",
    "    driver.get(url)\n",
    "    time.sleep(2)\n",
    "    if not loaded:\n",
    "        __load_comments(comments_count)\n",
    "    print(\"[OK] All comments in the screen\")\n",
    "    loved_hist = __load_previous_nicknames_loved()\n",
    "    comments = driver.find_elements_by_class_name('Mr508')\n",
    "    ul_comments = filter(lambda c: c.tag_name == 'ul', comments)\n",
    "    with open('loved.txt', 'a+') as fp:\n",
    "        for comment in tqdm(ul_comments, total=comments_count, leave=True, position=0 ):\n",
    "            nick = __get_nick_from_comment(comment)\n",
    "            if loved_hist and nick in loved_hist:\n",
    "                continue\n",
    "            if not __love_comment(comment):\n",
    "                return False  # IG is upset and thinks I'm a bot haha\n",
    "            fp.write(nick + '\\n')\n",
    "            time.sleep(random.randint(1, 8))  # delay randomly to avoid anti-bot algorithm\n",
    "    return True\n"
   ]
  },
  {
   "cell_type": "code",
   "execution_count": null,
   "metadata": {},
   "outputs": [],
   "source": [
    "\n"
   ]
  },
  {
   "cell_type": "code",
   "execution_count": 98,
   "metadata": {},
   "outputs": [
    {
     "name": "stderr",
     "output_type": "stream",
     "text": [
      "\r",
      "  0%|          | 0/276 [00:00<?, ?it/s]"
     ]
    },
    {
     "name": "stdout",
     "output_type": "stream",
     "text": [
      "[OK] All comments in the screen\n",
      "3 already loved\n"
     ]
    },
    {
     "name": "stderr",
     "output_type": "stream",
     "text": [
      "  4%|▍         | 12/276 [00:28<10:34,  2.40s/it]\n"
     ]
    },
    {
     "data": {
      "text/plain": [
       "True"
      ]
     },
     "execution_count": 98,
     "metadata": {},
     "output_type": "execute_result"
    }
   ],
   "source": [
    "# post_url = \"https://www.instagram.com/p/B_ghUHuFtVr/\"\n",
    "post_url = 'https://www.instagram.com/p/B_liTk6BHLe/'\n",
    "like_comments(post_url, 276, True)"
   ]
  },
  {
   "cell_type": "markdown",
   "metadata": {},
   "source": [
    "# Followers and following\n",
    "Save current people who you are following and following you"
   ]
  },
  {
   "cell_type": "code",
   "execution_count": 89,
   "metadata": {},
   "outputs": [],
   "source": [
    "def get_inner_html(elem):\n",
    "    return elem.get_attribute('innerHTML')\n",
    "\n",
    "def click_post_followers_following(index):\n",
    "    '''You shoud be in the target profile before execute the function.\n",
    "    If index == 0 post else if index == 1 followers else if index == 2 following else error will be raised. '''\n",
    "    ul_post_followers_following = driver.find_element_by_class_name(\"k9GMp \")\n",
    "    li_elems = ul_post_followers_following.find_elements_by_tag_name('li')\n",
    "    li_selected = li_elems[index]\n",
    "    li_selected.find_element_by_tag_name('a').click() \n",
    "    \n",
    "    # how many li are there\n",
    "    return int(li_selected.find_element_by_tag_name('span').text)\n",
    "\n",
    "def get_nicknames(people_count) -> set:\n",
    "    '''We'll scrap nicknames by looking followers, following field in our account  \n",
    "    '''    \n",
    "    print('Scrolling...')\n",
    "    div = driver.find_element_by_class_name('isgrP')\n",
    "    ul_scroll = div.find_element_by_tag_name('ul')\n",
    "    for _ in tqdm(range(people_count // 12)):  # Insta loads 12 elements per upload\n",
    "        driver.execute_script('arguments[0].scrollIntoView(false)', ul_scroll)  # scroll all the way down to load all li elements inside ul list\n",
    "        time.sleep(1)  # wait to load html elements\n",
    "    \n",
    "    li_people = driver.find_elements_by_class_name('wo9IH')  # it may find elements inside ul_scoll variable\n",
    "    people_names = set()\n",
    "    print('Appending nicknames in list...')\n",
    "    for li_elem in tqdm(li_people, total=len(li_people)):\n",
    "        div_elem = li_elem.find_element_by_class_name('d7ByH')\n",
    "        a_elem = div_elem.find_element_by_tag_name('a')\n",
    "        people_names.add(a_elem.text)\n",
    "    return people_names\n",
    "\n",
    "def __get_people(option, url_profile):\n",
    "    driver.get(url_profile)\n",
    "    time.sleep(2)  # call time after update the document\n",
    "    n = click_post_followers_following(option)\n",
    "    print(f'Followers: {n}') if option == 1 else print(f'Following: {n}')    \n",
    "    time.sleep(2)\n",
    "    return get_nicknames(n)\n",
    "\n",
    "def get_followers(username):\n",
    "    url_profile = f'https://www.instagram.com/{username}/'\n",
    "    return __get_people(1, url_profile)\n",
    "\n",
    "def get_following(username):\n",
    "    url_profile = f'https://www.instagram.com/{username}/'\n",
    "    return __get_people(2, url_profile)\n"
   ]
  },
  {
   "cell_type": "code",
   "execution_count": null,
   "metadata": {},
   "outputs": [],
   "source": []
  },
  {
   "cell_type": "code",
   "execution_count": 90,
   "metadata": {},
   "outputs": [
    {
     "name": "stdout",
     "output_type": "stream",
     "text": [
      "Followers: 518\n"
     ]
    },
    {
     "name": "stderr",
     "output_type": "stream",
     "text": [
      "\n",
      "  0%|          | 0/43 [00:00<?, ?it/s]\u001b[A"
     ]
    },
    {
     "name": "stdout",
     "output_type": "stream",
     "text": [
      "Scrolling...\n"
     ]
    },
    {
     "name": "stderr",
     "output_type": "stream",
     "text": [
      "\n",
      "  2%|▏         | 1/43 [00:01<00:42,  1.02s/it]\u001b[A\n",
      "  5%|▍         | 2/43 [00:02<00:41,  1.02s/it]\u001b[A\n",
      "  7%|▋         | 3/43 [00:03<00:41,  1.03s/it]\u001b[A\n",
      "  9%|▉         | 4/43 [00:04<00:40,  1.03s/it]\u001b[A\n",
      " 12%|█▏        | 5/43 [00:05<00:39,  1.03s/it]\u001b[A\n",
      " 14%|█▍        | 6/43 [00:06<00:38,  1.03s/it]\u001b[A\n",
      " 16%|█▋        | 7/43 [00:07<00:37,  1.03s/it]\u001b[A\n",
      " 19%|█▊        | 8/43 [00:08<00:36,  1.03s/it]\u001b[A\n",
      " 21%|██        | 9/43 [00:09<00:35,  1.04s/it]\u001b[A\n",
      " 23%|██▎       | 10/43 [00:10<00:34,  1.03s/it]\u001b[A\n",
      " 26%|██▌       | 11/43 [00:11<00:33,  1.04s/it]\u001b[A\n",
      " 28%|██▊       | 12/43 [00:12<00:32,  1.04s/it]\u001b[A\n",
      " 30%|███       | 13/43 [00:13<00:31,  1.05s/it]\u001b[A\n",
      " 33%|███▎      | 14/43 [00:14<00:30,  1.04s/it]\u001b[A\n",
      " 35%|███▍      | 15/43 [00:15<00:29,  1.04s/it]\u001b[A\n",
      " 37%|███▋      | 16/43 [00:16<00:28,  1.04s/it]\u001b[A\n",
      " 40%|███▉      | 17/43 [00:17<00:27,  1.05s/it]\u001b[A\n",
      " 42%|████▏     | 18/43 [00:18<00:26,  1.06s/it]\u001b[A\n",
      " 44%|████▍     | 19/43 [00:19<00:25,  1.05s/it]\u001b[A\n",
      " 47%|████▋     | 20/43 [00:20<00:24,  1.06s/it]\u001b[A\n",
      " 49%|████▉     | 21/43 [00:21<00:23,  1.05s/it]\u001b[A\n",
      " 51%|█████     | 22/43 [00:22<00:22,  1.05s/it]\u001b[A\n",
      " 53%|█████▎    | 23/43 [00:23<00:20,  1.05s/it]\u001b[A\n",
      " 56%|█████▌    | 24/43 [00:25<00:19,  1.05s/it]\u001b[A\n",
      " 58%|█████▊    | 25/43 [00:26<00:18,  1.04s/it]\u001b[A\n",
      " 60%|██████    | 26/43 [00:27<00:17,  1.04s/it]\u001b[A\n",
      " 63%|██████▎   | 27/43 [00:28<00:16,  1.05s/it]\u001b[A\n",
      " 65%|██████▌   | 28/43 [00:29<00:15,  1.05s/it]\u001b[A\n",
      " 67%|██████▋   | 29/43 [00:30<00:14,  1.06s/it]\u001b[A\n",
      " 70%|██████▉   | 30/43 [00:31<00:13,  1.06s/it]\u001b[A\n",
      " 72%|███████▏  | 31/43 [00:32<00:12,  1.05s/it]\u001b[A\n",
      " 74%|███████▍  | 32/43 [00:33<00:11,  1.05s/it]\u001b[A\n",
      " 77%|███████▋  | 33/43 [00:34<00:10,  1.06s/it]\u001b[A\n",
      " 79%|███████▉  | 34/43 [00:35<00:09,  1.05s/it]\u001b[A\n",
      " 81%|████████▏ | 35/43 [00:36<00:08,  1.06s/it]\u001b[A\n",
      " 84%|████████▎ | 36/43 [00:37<00:07,  1.06s/it]\u001b[A\n",
      " 86%|████████▌ | 37/43 [00:38<00:06,  1.06s/it]\u001b[A\n",
      " 88%|████████▊ | 38/43 [00:39<00:05,  1.06s/it]\u001b[A\n",
      " 91%|█████████ | 39/43 [00:40<00:04,  1.06s/it]\u001b[A\n",
      " 93%|█████████▎| 40/43 [00:41<00:03,  1.06s/it]\u001b[A\n",
      " 95%|█████████▌| 41/43 [00:43<00:02,  1.07s/it]\u001b[A\n",
      " 98%|█████████▊| 42/43 [00:44<00:01,  1.07s/it]\u001b[A\n",
      "100%|██████████| 43/43 [00:45<00:00,  1.05s/it]\u001b[A\n",
      "\n",
      "  0%|          | 0/518 [00:00<?, ?it/s]\u001b[A\n",
      "  1%|          | 3/518 [00:00<00:20, 24.86it/s]\u001b[A"
     ]
    },
    {
     "name": "stdout",
     "output_type": "stream",
     "text": [
      "Appending nicknames in list...\n"
     ]
    },
    {
     "name": "stderr",
     "output_type": "stream",
     "text": [
      "\n",
      "  1%|          | 6/518 [00:00<00:20, 24.56it/s]\u001b[A\n",
      "  2%|▏         | 9/518 [00:00<00:20, 24.54it/s]\u001b[A\n",
      "  2%|▏         | 12/518 [00:00<00:20, 24.79it/s]\u001b[A\n",
      "  3%|▎         | 15/518 [00:00<00:20, 24.98it/s]\u001b[A\n",
      "  3%|▎         | 18/518 [00:00<00:20, 24.85it/s]\u001b[A\n",
      "  4%|▍         | 21/518 [00:00<00:20, 24.66it/s]\u001b[A\n",
      "  5%|▍         | 24/518 [00:00<00:19, 24.82it/s]\u001b[A\n",
      "  5%|▌         | 27/518 [00:01<00:19, 24.72it/s]\u001b[A\n",
      "  6%|▌         | 30/518 [00:01<00:19, 24.85it/s]\u001b[A\n",
      "  6%|▋         | 33/518 [00:01<00:19, 24.70it/s]\u001b[A\n",
      "  7%|▋         | 36/518 [00:01<00:19, 24.77it/s]\u001b[A\n",
      "  8%|▊         | 39/518 [00:01<00:22, 20.99it/s]\u001b[A\n",
      "  8%|▊         | 42/518 [00:01<00:22, 21.44it/s]\u001b[A\n",
      "  9%|▊         | 45/518 [00:01<00:21, 22.45it/s]\u001b[A\n",
      "  9%|▉         | 48/518 [00:02<00:20, 23.00it/s]\u001b[A\n",
      " 10%|▉         | 51/518 [00:02<00:20, 22.82it/s]\u001b[A\n",
      " 10%|█         | 54/518 [00:02<00:20, 22.11it/s]\u001b[A\n",
      " 11%|█         | 57/518 [00:02<00:21, 21.25it/s]\u001b[A\n",
      " 12%|█▏        | 60/518 [00:02<00:21, 21.59it/s]\u001b[A\n",
      " 12%|█▏        | 63/518 [00:02<00:20, 22.25it/s]\u001b[A\n",
      " 13%|█▎        | 66/518 [00:02<00:19, 23.22it/s]\u001b[A\n",
      " 13%|█▎        | 69/518 [00:02<00:19, 23.48it/s]\u001b[A\n",
      " 14%|█▍        | 72/518 [00:03<00:19, 23.25it/s]\u001b[A\n",
      " 14%|█▍        | 75/518 [00:03<00:18, 23.55it/s]\u001b[A\n",
      " 15%|█▌        | 78/518 [00:03<00:19, 22.53it/s]\u001b[A\n",
      " 16%|█▌        | 81/518 [00:03<00:19, 22.26it/s]\u001b[A\n",
      " 16%|█▌        | 84/518 [00:03<00:19, 21.96it/s]\u001b[A\n",
      " 17%|█▋        | 87/518 [00:03<00:19, 22.57it/s]\u001b[A\n",
      " 17%|█▋        | 90/518 [00:03<00:18, 23.07it/s]\u001b[A\n",
      " 18%|█▊        | 93/518 [00:04<00:17, 23.75it/s]\u001b[A\n",
      " 19%|█▊        | 96/518 [00:04<00:17, 24.13it/s]\u001b[A\n",
      " 19%|█▉        | 99/518 [00:04<00:17, 24.16it/s]\u001b[A\n",
      " 20%|█▉        | 102/518 [00:04<00:17, 24.39it/s]\u001b[A\n",
      " 20%|██        | 105/518 [00:04<00:16, 24.37it/s]\u001b[A\n",
      " 21%|██        | 108/518 [00:04<00:16, 24.32it/s]\u001b[A\n",
      " 21%|██▏       | 111/518 [00:04<00:16, 24.83it/s]\u001b[A\n",
      " 22%|██▏       | 114/518 [00:04<00:16, 24.97it/s]\u001b[A\n",
      " 23%|██▎       | 117/518 [00:05<00:22, 17.63it/s]\u001b[A\n",
      " 23%|██▎       | 120/518 [00:05<00:29, 13.44it/s]\u001b[A\n",
      " 24%|██▎       | 122/518 [00:05<00:31, 12.50it/s]\u001b[A\n",
      " 24%|██▍       | 124/518 [00:05<00:38, 10.18it/s]\u001b[A\n",
      " 24%|██▍       | 126/518 [00:06<00:33, 11.70it/s]\u001b[A\n",
      " 25%|██▍       | 128/518 [00:06<00:29, 13.33it/s]\u001b[A\n",
      " 25%|██▌       | 131/518 [00:06<00:25, 15.45it/s]\u001b[A\n",
      " 26%|██▌       | 134/518 [00:06<00:22, 17.38it/s]\u001b[A\n",
      " 26%|██▋       | 137/518 [00:06<00:20, 19.03it/s]\u001b[A\n",
      " 27%|██▋       | 140/518 [00:06<00:18, 20.34it/s]\u001b[A\n",
      " 28%|██▊       | 143/518 [00:06<00:17, 21.27it/s]\u001b[A\n",
      " 28%|██▊       | 146/518 [00:06<00:16, 22.04it/s]\u001b[A\n",
      " 29%|██▉       | 149/518 [00:07<00:16, 22.66it/s]\u001b[A\n",
      " 29%|██▉       | 152/518 [00:07<00:15, 23.26it/s]\u001b[A\n",
      " 30%|██▉       | 155/518 [00:07<00:15, 23.53it/s]\u001b[A\n",
      " 31%|███       | 158/518 [00:07<00:15, 23.95it/s]\u001b[A\n",
      " 31%|███       | 161/518 [00:07<00:24, 14.58it/s]\u001b[A\n",
      " 32%|███▏      | 164/518 [00:07<00:21, 16.54it/s]\u001b[A\n",
      " 32%|███▏      | 167/518 [00:08<00:19, 18.18it/s]\u001b[A\n",
      " 33%|███▎      | 170/518 [00:08<00:17, 19.81it/s]\u001b[A\n",
      " 33%|███▎      | 173/518 [00:08<00:16, 20.88it/s]\u001b[A\n",
      " 34%|███▍      | 176/518 [00:08<00:15, 22.11it/s]\u001b[A\n",
      " 35%|███▍      | 179/518 [00:08<00:14, 22.72it/s]\u001b[A\n",
      " 35%|███▌      | 182/518 [00:08<00:14, 23.20it/s]\u001b[A\n",
      " 36%|███▌      | 185/518 [00:08<00:14, 23.57it/s]\u001b[A\n",
      " 36%|███▋      | 188/518 [00:08<00:13, 23.93it/s]\u001b[A\n",
      " 37%|███▋      | 191/518 [00:09<00:13, 24.17it/s]\u001b[A\n",
      " 37%|███▋      | 194/518 [00:09<00:13, 24.26it/s]\u001b[A\n",
      " 38%|███▊      | 197/518 [00:09<00:13, 24.36it/s]\u001b[A\n",
      " 39%|███▊      | 200/518 [00:09<00:13, 24.06it/s]\u001b[A\n",
      " 39%|███▉      | 203/518 [00:09<00:13, 23.79it/s]\u001b[A\n",
      " 40%|███▉      | 206/518 [00:09<00:13, 22.80it/s]\u001b[A\n",
      " 40%|████      | 209/518 [00:09<00:14, 21.73it/s]\u001b[A\n",
      " 41%|████      | 212/518 [00:09<00:14, 21.39it/s]\u001b[A\n",
      " 42%|████▏     | 215/518 [00:10<00:14, 21.35it/s]\u001b[A\n",
      " 42%|████▏     | 218/518 [00:10<00:13, 22.29it/s]\u001b[A\n",
      " 43%|████▎     | 221/518 [00:10<00:13, 22.53it/s]\u001b[A\n",
      " 43%|████▎     | 224/518 [00:10<00:12, 23.16it/s]\u001b[A\n",
      " 44%|████▍     | 227/518 [00:10<00:12, 23.43it/s]\u001b[A\n",
      " 44%|████▍     | 230/518 [00:10<00:12, 23.16it/s]\u001b[A\n",
      " 45%|████▍     | 233/518 [00:10<00:12, 23.09it/s]\u001b[A\n",
      " 46%|████▌     | 236/518 [00:10<00:11, 23.63it/s]\u001b[A\n",
      " 46%|████▌     | 239/518 [00:11<00:11, 23.94it/s]\u001b[A\n",
      " 47%|████▋     | 242/518 [00:11<00:11, 23.89it/s]\u001b[A\n",
      " 47%|████▋     | 245/518 [00:11<00:11, 24.03it/s]\u001b[A\n",
      " 48%|████▊     | 248/518 [00:11<00:11, 23.94it/s]\u001b[A\n",
      " 48%|████▊     | 251/518 [00:11<00:11, 24.25it/s]\u001b[A\n",
      " 49%|████▉     | 254/518 [00:11<00:10, 24.35it/s]\u001b[A\n",
      " 50%|████▉     | 257/518 [00:11<00:10, 23.82it/s]\u001b[A\n",
      " 50%|█████     | 260/518 [00:11<00:10, 23.86it/s]\u001b[A\n",
      " 51%|█████     | 263/518 [00:12<00:10, 23.85it/s]\u001b[A\n",
      " 51%|█████▏    | 266/518 [00:12<00:10, 23.90it/s]\u001b[A\n",
      " 52%|█████▏    | 269/518 [00:12<00:10, 23.73it/s]\u001b[A\n",
      " 53%|█████▎    | 272/518 [00:12<00:10, 23.73it/s]\u001b[A\n",
      " 53%|█████▎    | 275/518 [00:12<00:10, 23.96it/s]\u001b[A\n",
      " 54%|█████▎    | 278/518 [00:12<00:10, 23.94it/s]\u001b[A\n",
      " 54%|█████▍    | 281/518 [00:12<00:09, 23.92it/s]\u001b[A\n",
      " 55%|█████▍    | 284/518 [00:12<00:09, 24.07it/s]\u001b[A\n",
      " 55%|█████▌    | 287/518 [00:13<00:09, 23.72it/s]\u001b[A\n",
      " 56%|█████▌    | 290/518 [00:13<00:09, 23.75it/s]\u001b[A\n",
      " 57%|█████▋    | 293/518 [00:13<00:09, 23.69it/s]\u001b[A\n",
      " 57%|█████▋    | 296/518 [00:13<00:09, 23.45it/s]\u001b[A\n",
      " 58%|█████▊    | 299/518 [00:13<00:09, 23.51it/s]\u001b[A\n",
      " 58%|█████▊    | 302/518 [00:13<00:09, 23.61it/s]\u001b[A\n",
      " 59%|█████▉    | 305/518 [00:13<00:08, 23.74it/s]\u001b[A\n",
      " 59%|█████▉    | 308/518 [00:14<00:08, 23.41it/s]\u001b[A\n",
      " 60%|██████    | 311/518 [00:14<00:08, 23.39it/s]\u001b[A\n",
      " 61%|██████    | 314/518 [00:14<00:08, 23.45it/s]\u001b[A\n",
      " 61%|██████    | 317/518 [00:14<00:08, 23.76it/s]\u001b[A\n",
      " 62%|██████▏   | 320/518 [00:14<00:08, 23.76it/s]\u001b[A\n",
      " 62%|██████▏   | 323/518 [00:14<00:08, 23.67it/s]\u001b[A\n",
      " 63%|██████▎   | 326/518 [00:14<00:08, 22.77it/s]\u001b[A\n",
      " 64%|██████▎   | 329/518 [00:14<00:08, 22.07it/s]\u001b[A\n",
      " 64%|██████▍   | 332/518 [00:15<00:08, 21.59it/s]\u001b[A\n",
      " 65%|██████▍   | 335/518 [00:15<00:08, 21.45it/s]\u001b[A\n",
      " 65%|██████▌   | 338/518 [00:15<00:08, 21.31it/s]\u001b[A\n",
      " 66%|██████▌   | 341/518 [00:15<00:08, 21.21it/s]\u001b[A\n",
      " 66%|██████▋   | 344/518 [00:15<00:08, 21.34it/s]\u001b[A\n",
      " 67%|██████▋   | 347/518 [00:15<00:07, 21.74it/s]\u001b[A\n",
      " 68%|██████▊   | 350/518 [00:15<00:07, 22.10it/s]\u001b[A\n",
      " 68%|██████▊   | 353/518 [00:16<00:07, 22.34it/s]\u001b[A\n",
      " 69%|██████▊   | 356/518 [00:16<00:07, 21.17it/s]\u001b[A\n",
      " 69%|██████▉   | 359/518 [00:16<00:07, 21.04it/s]\u001b[A\n",
      " 70%|██████▉   | 362/518 [00:16<00:07, 20.96it/s]\u001b[A\n",
      " 70%|███████   | 365/518 [00:16<00:07, 20.98it/s]\u001b[A\n",
      " 71%|███████   | 368/518 [00:16<00:07, 21.41it/s]\u001b[A\n",
      " 72%|███████▏  | 371/518 [00:16<00:06, 22.00it/s]\u001b[A\n",
      " 72%|███████▏  | 374/518 [00:17<00:06, 21.73it/s]\u001b[A\n",
      " 73%|███████▎  | 377/518 [00:17<00:06, 21.92it/s]\u001b[A\n",
      " 73%|███████▎  | 380/518 [00:17<00:06, 22.43it/s]\u001b[A\n",
      " 74%|███████▍  | 383/518 [00:17<00:05, 22.59it/s]\u001b[A\n",
      " 75%|███████▍  | 386/518 [00:17<00:05, 22.23it/s]\u001b[A\n",
      " 75%|███████▌  | 389/518 [00:17<00:05, 22.55it/s]\u001b[A\n",
      " 76%|███████▌  | 392/518 [00:17<00:05, 22.76it/s]\u001b[A\n",
      " 76%|███████▋  | 395/518 [00:17<00:05, 22.94it/s]\u001b[A\n",
      " 77%|███████▋  | 398/518 [00:18<00:05, 22.80it/s]\u001b[A\n",
      " 77%|███████▋  | 401/518 [00:18<00:05, 22.68it/s]\u001b[A\n",
      " 78%|███████▊  | 404/518 [00:18<00:05, 22.68it/s]\u001b[A\n",
      " 79%|███████▊  | 407/518 [00:18<00:04, 22.68it/s]\u001b[A\n",
      " 79%|███████▉  | 410/518 [00:18<00:04, 22.65it/s]\u001b[A\n",
      " 80%|███████▉  | 413/518 [00:18<00:04, 22.70it/s]\u001b[A\n",
      " 80%|████████  | 416/518 [00:18<00:04, 23.02it/s]\u001b[A\n",
      " 81%|████████  | 419/518 [00:18<00:04, 23.16it/s]\u001b[A\n",
      " 81%|████████▏ | 422/518 [00:19<00:04, 22.82it/s]\u001b[A\n",
      " 82%|████████▏ | 425/518 [00:19<00:04, 22.87it/s]\u001b[A\n",
      " 83%|████████▎ | 428/518 [00:19<00:03, 22.81it/s]\u001b[A\n",
      " 83%|████████▎ | 431/518 [00:19<00:03, 22.78it/s]\u001b[A\n",
      " 84%|████████▍ | 434/518 [00:19<00:03, 22.98it/s]\u001b[A\n",
      " 84%|████████▍ | 437/518 [00:19<00:03, 23.25it/s]\u001b[A\n",
      " 85%|████████▍ | 440/518 [00:19<00:03, 23.15it/s]\u001b[A\n",
      " 86%|████████▌ | 443/518 [00:20<00:03, 22.95it/s]\u001b[A\n",
      " 86%|████████▌ | 446/518 [00:20<00:03, 22.92it/s]\u001b[A\n",
      " 87%|████████▋ | 449/518 [00:20<00:03, 22.85it/s]\u001b[A\n",
      " 87%|████████▋ | 452/518 [00:20<00:02, 23.03it/s]\u001b[A\n",
      " 88%|████████▊ | 455/518 [00:20<00:02, 23.22it/s]\u001b[A\n",
      " 88%|████████▊ | 458/518 [00:20<00:02, 23.08it/s]\u001b[A\n",
      " 89%|████████▉ | 461/518 [00:20<00:02, 22.81it/s]\u001b[A\n",
      " 90%|████████▉ | 464/518 [00:20<00:02, 22.72it/s]\u001b[A\n"
     ]
    },
    {
     "name": "stderr",
     "output_type": "stream",
     "text": [
      " 90%|█████████ | 467/518 [00:21<00:02, 22.48it/s]\u001b[A\n",
      " 91%|█████████ | 470/518 [00:21<00:02, 22.52it/s]\u001b[A\n",
      " 91%|█████████▏| 473/518 [00:21<00:01, 22.81it/s]\u001b[A\n",
      " 92%|█████████▏| 476/518 [00:21<00:01, 22.54it/s]\u001b[A\n",
      " 92%|█████████▏| 479/518 [00:21<00:01, 22.42it/s]\u001b[A\n",
      " 93%|█████████▎| 482/518 [00:21<00:01, 22.77it/s]\u001b[A\n",
      " 94%|█████████▎| 485/518 [00:21<00:01, 23.04it/s]\u001b[A\n",
      " 94%|█████████▍| 488/518 [00:22<00:01, 23.20it/s]\u001b[A\n",
      " 95%|█████████▍| 491/518 [00:22<00:01, 23.11it/s]\u001b[A\n",
      " 95%|█████████▌| 494/518 [00:22<00:01, 23.19it/s]\u001b[A\n",
      " 96%|█████████▌| 497/518 [00:22<00:00, 23.08it/s]\u001b[A\n",
      " 97%|█████████▋| 500/518 [00:22<00:00, 22.59it/s]\u001b[A\n",
      " 97%|█████████▋| 503/518 [00:22<00:00, 22.48it/s]\u001b[A\n",
      " 98%|█████████▊| 506/518 [00:22<00:00, 22.39it/s]\u001b[A\n",
      " 98%|█████████▊| 509/518 [00:22<00:00, 22.45it/s]\u001b[A\n",
      " 99%|█████████▉| 512/518 [00:23<00:00, 22.44it/s]\u001b[A\n",
      " 99%|█████████▉| 515/518 [00:23<00:00, 22.48it/s]\u001b[A\n",
      "100%|██████████| 518/518 [00:23<00:00, 22.19it/s]\u001b[A\n"
     ]
    }
   ],
   "source": [
    "followers = get_followers(username)\n"
   ]
  },
  {
   "cell_type": "code",
   "execution_count": 91,
   "metadata": {},
   "outputs": [
    {
     "name": "stdout",
     "output_type": "stream",
     "text": [
      "Following: 570\n"
     ]
    },
    {
     "name": "stderr",
     "output_type": "stream",
     "text": [
      "\n",
      "  0%|          | 0/47 [00:00<?, ?it/s]\u001b[A"
     ]
    },
    {
     "name": "stdout",
     "output_type": "stream",
     "text": [
      "Scrolling...\n"
     ]
    },
    {
     "name": "stderr",
     "output_type": "stream",
     "text": [
      "\n",
      "  2%|▏         | 1/47 [00:01<00:46,  1.01s/it]\u001b[A\n",
      "  4%|▍         | 2/47 [00:02<00:46,  1.03s/it]\u001b[A\n",
      "  6%|▋         | 3/47 [00:03<00:45,  1.03s/it]\u001b[A\n",
      "  9%|▊         | 4/47 [00:04<00:44,  1.04s/it]\u001b[A\n",
      " 11%|█         | 5/47 [00:05<00:43,  1.03s/it]\u001b[A\n",
      " 13%|█▎        | 6/47 [00:06<00:42,  1.03s/it]\u001b[A\n",
      " 15%|█▍        | 7/47 [00:07<00:41,  1.03s/it]\u001b[A\n",
      " 17%|█▋        | 8/47 [00:08<00:40,  1.03s/it]\u001b[A\n",
      " 19%|█▉        | 9/47 [00:09<00:39,  1.03s/it]\u001b[A\n",
      " 21%|██▏       | 10/47 [00:10<00:38,  1.03s/it]\u001b[A\n",
      " 23%|██▎       | 11/47 [00:11<00:38,  1.08s/it]\u001b[A\n",
      " 26%|██▌       | 12/47 [00:12<00:37,  1.07s/it]\u001b[A\n",
      " 28%|██▊       | 13/47 [00:13<00:36,  1.07s/it]\u001b[A\n",
      " 30%|██▉       | 14/47 [00:14<00:34,  1.05s/it]\u001b[A\n",
      " 32%|███▏      | 15/47 [00:15<00:33,  1.06s/it]\u001b[A\n",
      " 34%|███▍      | 16/47 [00:16<00:32,  1.05s/it]\u001b[A\n",
      " 36%|███▌      | 17/47 [00:17<00:31,  1.04s/it]\u001b[A\n",
      " 38%|███▊      | 18/47 [00:18<00:30,  1.05s/it]\u001b[A\n",
      " 40%|████      | 19/47 [00:19<00:29,  1.05s/it]\u001b[A\n",
      " 43%|████▎     | 20/47 [00:21<00:28,  1.07s/it]\u001b[A\n",
      " 45%|████▍     | 21/47 [00:22<00:27,  1.06s/it]\u001b[A\n",
      " 47%|████▋     | 22/47 [00:23<00:26,  1.05s/it]\u001b[A\n",
      " 49%|████▉     | 23/47 [00:24<00:25,  1.05s/it]\u001b[A\n",
      " 51%|█████     | 24/47 [00:25<00:24,  1.06s/it]\u001b[A\n",
      " 53%|█████▎    | 25/47 [00:26<00:23,  1.06s/it]\u001b[A\n",
      " 55%|█████▌    | 26/47 [00:27<00:21,  1.04s/it]\u001b[A\n",
      " 57%|█████▋    | 27/47 [00:28<00:20,  1.05s/it]\u001b[A\n",
      " 60%|█████▉    | 28/47 [00:30<00:24,  1.28s/it]\u001b[A\n",
      " 62%|██████▏   | 29/47 [00:31<00:21,  1.21s/it]\u001b[A\n",
      " 64%|██████▍   | 30/47 [00:32<00:19,  1.17s/it]\u001b[A\n",
      " 66%|██████▌   | 31/47 [00:33<00:18,  1.13s/it]\u001b[A\n",
      " 68%|██████▊   | 32/47 [00:34<00:17,  1.17s/it]\u001b[A\n",
      " 70%|███████   | 33/47 [00:35<00:16,  1.17s/it]\u001b[A\n",
      " 72%|███████▏  | 34/47 [00:36<00:14,  1.14s/it]\u001b[A\n",
      " 74%|███████▍  | 35/47 [00:37<00:13,  1.11s/it]\u001b[A\n",
      " 77%|███████▋  | 36/47 [00:39<00:12,  1.14s/it]\u001b[A\n",
      " 79%|███████▊  | 37/47 [00:40<00:11,  1.15s/it]\u001b[A\n",
      " 81%|████████  | 38/47 [00:41<00:10,  1.12s/it]\u001b[A\n",
      " 83%|████████▎ | 39/47 [00:42<00:08,  1.11s/it]\u001b[A\n",
      " 85%|████████▌ | 40/47 [00:43<00:07,  1.09s/it]\u001b[A\n",
      " 87%|████████▋ | 41/47 [00:44<00:07,  1.24s/it]\u001b[A\n",
      " 89%|████████▉ | 42/47 [00:46<00:06,  1.23s/it]\u001b[A\n",
      " 91%|█████████▏| 43/47 [00:47<00:05,  1.29s/it]\u001b[A\n",
      " 94%|█████████▎| 44/47 [00:48<00:03,  1.27s/it]\u001b[A\n",
      " 96%|█████████▌| 45/47 [00:49<00:02,  1.21s/it]\u001b[A\n",
      " 98%|█████████▊| 46/47 [00:51<00:01,  1.17s/it]\u001b[A\n",
      "100%|██████████| 47/47 [00:52<00:00,  1.11s/it]\u001b[A\n",
      "\n",
      "  0%|          | 0/570 [00:00<?, ?it/s]\u001b[A\n",
      "  1%|          | 3/570 [00:00<00:23, 24.30it/s]\u001b[A"
     ]
    },
    {
     "name": "stdout",
     "output_type": "stream",
     "text": [
      "Appending nicknames in list...\n"
     ]
    },
    {
     "name": "stderr",
     "output_type": "stream",
     "text": [
      "\n",
      "  1%|          | 6/570 [00:00<00:23, 24.40it/s]\u001b[A\n",
      "  2%|▏         | 9/570 [00:00<00:22, 24.56it/s]\u001b[A\n",
      "  2%|▏         | 12/570 [00:00<00:22, 24.77it/s]\u001b[A\n",
      "  3%|▎         | 15/570 [00:00<00:22, 25.18it/s]\u001b[A\n",
      "  3%|▎         | 18/570 [00:00<00:21, 25.37it/s]\u001b[A\n",
      "  4%|▎         | 21/570 [00:00<00:21, 25.17it/s]\u001b[A\n",
      "  4%|▍         | 24/570 [00:00<00:21, 25.23it/s]\u001b[A\n",
      "  5%|▍         | 27/570 [00:01<00:21, 25.19it/s]\u001b[A\n",
      "  5%|▌         | 30/570 [00:01<00:21, 25.11it/s]\u001b[A\n",
      "  6%|▌         | 33/570 [00:01<00:21, 25.07it/s]\u001b[A\n",
      "  6%|▋         | 36/570 [00:01<00:21, 24.49it/s]\u001b[A\n",
      "  7%|▋         | 39/570 [00:01<00:21, 24.94it/s]\u001b[A\n",
      "  7%|▋         | 42/570 [00:01<00:21, 24.86it/s]\u001b[A\n",
      "  8%|▊         | 45/570 [00:01<00:21, 24.50it/s]\u001b[A\n",
      "  8%|▊         | 48/570 [00:01<00:21, 24.68it/s]\u001b[A\n",
      "  9%|▉         | 51/570 [00:02<00:20, 24.72it/s]\u001b[A\n",
      "  9%|▉         | 54/570 [00:02<00:20, 24.58it/s]\u001b[A\n",
      " 10%|█         | 57/570 [00:02<00:20, 24.58it/s]\u001b[A\n",
      " 11%|█         | 60/570 [00:02<00:21, 24.28it/s]\u001b[A\n",
      " 11%|█         | 63/570 [00:02<00:20, 24.36it/s]\u001b[A\n",
      " 12%|█▏        | 66/570 [00:02<00:20, 24.53it/s]\u001b[A\n",
      " 12%|█▏        | 69/570 [00:02<00:20, 24.37it/s]\u001b[A\n",
      " 13%|█▎        | 72/570 [00:02<00:20, 24.46it/s]\u001b[A\n",
      " 13%|█▎        | 75/570 [00:03<00:20, 24.71it/s]\u001b[A\n",
      " 14%|█▎        | 78/570 [00:03<00:19, 24.67it/s]\u001b[A\n",
      " 14%|█▍        | 81/570 [00:03<00:19, 24.75it/s]\u001b[A\n",
      " 15%|█▍        | 84/570 [00:03<00:19, 24.82it/s]\u001b[A\n",
      " 15%|█▌        | 87/570 [00:03<00:19, 25.02it/s]\u001b[A\n",
      " 16%|█▌        | 90/570 [00:03<00:19, 24.66it/s]\u001b[A\n",
      " 16%|█▋        | 93/570 [00:03<00:19, 24.75it/s]\u001b[A\n",
      " 17%|█▋        | 96/570 [00:03<00:19, 24.72it/s]\u001b[A\n",
      " 17%|█▋        | 99/570 [00:04<00:19, 24.04it/s]\u001b[A\n",
      " 18%|█▊        | 102/570 [00:04<00:19, 24.25it/s]\u001b[A\n",
      " 18%|█▊        | 105/570 [00:04<00:19, 24.33it/s]\u001b[A\n",
      " 19%|█▉        | 108/570 [00:04<00:19, 24.23it/s]\u001b[A\n",
      " 19%|█▉        | 111/570 [00:04<00:18, 24.22it/s]\u001b[A\n",
      " 20%|██        | 114/570 [00:04<00:18, 24.44it/s]\u001b[A\n",
      " 21%|██        | 117/570 [00:04<00:18, 24.30it/s]\u001b[A\n",
      " 21%|██        | 120/570 [00:04<00:18, 24.29it/s]\u001b[A\n",
      " 22%|██▏       | 123/570 [00:04<00:18, 24.46it/s]\u001b[A\n",
      " 22%|██▏       | 126/570 [00:05<00:18, 24.22it/s]\u001b[A\n",
      " 23%|██▎       | 129/570 [00:05<00:18, 23.88it/s]\u001b[A\n",
      " 23%|██▎       | 132/570 [00:05<00:18, 23.72it/s]\u001b[A\n",
      " 24%|██▎       | 135/570 [00:05<00:18, 23.26it/s]\u001b[A\n",
      " 24%|██▍       | 138/570 [00:05<00:18, 23.38it/s]\u001b[A\n",
      " 25%|██▍       | 141/570 [00:05<00:18, 23.78it/s]\u001b[A\n",
      " 25%|██▌       | 144/570 [00:05<00:17, 24.01it/s]\u001b[A\n",
      " 26%|██▌       | 147/570 [00:06<00:17, 24.03it/s]\u001b[A\n",
      " 26%|██▋       | 150/570 [00:06<00:17, 23.94it/s]\u001b[A\n",
      " 27%|██▋       | 153/570 [00:06<00:17, 24.03it/s]\u001b[A\n",
      " 27%|██▋       | 156/570 [00:06<00:17, 23.96it/s]\u001b[A\n",
      " 28%|██▊       | 159/570 [00:06<00:17, 23.92it/s]\u001b[A\n",
      " 28%|██▊       | 162/570 [00:06<00:16, 24.15it/s]\u001b[A\n",
      " 29%|██▉       | 165/570 [00:06<00:16, 24.18it/s]\u001b[A\n",
      " 29%|██▉       | 168/570 [00:06<00:16, 23.90it/s]\u001b[A\n",
      " 30%|███       | 171/570 [00:07<00:16, 24.04it/s]\u001b[A\n",
      " 31%|███       | 174/570 [00:07<00:16, 23.86it/s]\u001b[A\n",
      " 31%|███       | 177/570 [00:07<00:17, 22.43it/s]\u001b[A\n",
      " 32%|███▏      | 180/570 [00:07<00:18, 21.32it/s]\u001b[A\n",
      " 32%|███▏      | 183/570 [00:07<00:17, 21.60it/s]\u001b[A\n",
      " 33%|███▎      | 186/570 [00:07<00:17, 22.51it/s]\u001b[A\n",
      " 33%|███▎      | 189/570 [00:07<00:16, 22.93it/s]\u001b[A\n",
      " 34%|███▎      | 192/570 [00:07<00:16, 23.03it/s]\u001b[A\n",
      " 34%|███▍      | 195/570 [00:08<00:16, 23.30it/s]\u001b[A\n",
      " 35%|███▍      | 198/570 [00:08<00:15, 23.61it/s]\u001b[A\n",
      " 35%|███▌      | 201/570 [00:08<00:15, 23.57it/s]\u001b[A\n",
      " 36%|███▌      | 204/570 [00:08<00:15, 23.64it/s]\u001b[A\n",
      " 36%|███▋      | 207/570 [00:08<00:15, 22.98it/s]\u001b[A\n",
      " 37%|███▋      | 210/570 [00:08<00:16, 21.89it/s]\u001b[A\n",
      " 37%|███▋      | 213/570 [00:08<00:15, 22.72it/s]\u001b[A\n",
      " 38%|███▊      | 216/570 [00:08<00:15, 23.27it/s]\u001b[A\n",
      " 38%|███▊      | 219/570 [00:09<00:14, 23.78it/s]\u001b[A\n",
      " 39%|███▉      | 222/570 [00:09<00:14, 23.85it/s]\u001b[A\n",
      " 39%|███▉      | 225/570 [00:09<00:14, 24.05it/s]\u001b[A\n",
      " 40%|████      | 228/570 [00:09<00:14, 23.84it/s]\u001b[A\n",
      " 41%|████      | 231/570 [00:09<00:14, 23.97it/s]\u001b[A\n",
      " 41%|████      | 234/570 [00:09<00:14, 23.93it/s]\u001b[A\n",
      " 42%|████▏     | 237/570 [00:09<00:13, 24.02it/s]\u001b[A\n",
      " 42%|████▏     | 240/570 [00:09<00:13, 24.00it/s]\u001b[A\n",
      " 43%|████▎     | 243/570 [00:10<00:13, 24.15it/s]\u001b[A\n",
      " 43%|████▎     | 246/570 [00:10<00:13, 24.02it/s]\u001b[A\n",
      " 44%|████▎     | 249/570 [00:10<00:13, 23.58it/s]\u001b[A\n",
      " 44%|████▍     | 252/570 [00:10<00:13, 23.50it/s]\u001b[A\n",
      " 45%|████▍     | 255/570 [00:10<00:13, 23.64it/s]\u001b[A\n",
      " 45%|████▌     | 258/570 [00:10<00:13, 23.43it/s]\u001b[A\n",
      " 46%|████▌     | 261/570 [00:10<00:13, 23.24it/s]\u001b[A\n",
      " 46%|████▋     | 264/570 [00:11<00:13, 22.04it/s]\u001b[A\n",
      " 47%|████▋     | 267/570 [00:11<00:14, 21.31it/s]\u001b[A\n",
      " 47%|████▋     | 270/570 [00:11<00:14, 21.03it/s]\u001b[A\n",
      " 48%|████▊     | 273/570 [00:11<00:13, 21.77it/s]\u001b[A\n",
      " 48%|████▊     | 276/570 [00:11<00:12, 22.66it/s]\u001b[A\n",
      " 49%|████▉     | 279/570 [00:11<00:12, 23.03it/s]\u001b[A\n",
      " 49%|████▉     | 282/570 [00:11<00:12, 23.11it/s]\u001b[A\n",
      " 50%|█████     | 285/570 [00:11<00:12, 23.49it/s]\u001b[A\n",
      " 51%|█████     | 288/570 [00:12<00:11, 23.53it/s]\u001b[A\n",
      " 51%|█████     | 291/570 [00:12<00:15, 17.74it/s]\u001b[A\n",
      " 51%|█████▏    | 293/570 [00:12<00:25, 10.72it/s]\u001b[A\n",
      " 52%|█████▏    | 295/570 [00:12<00:26, 10.29it/s]\u001b[A\n",
      " 52%|█████▏    | 297/570 [00:13<00:52,  5.22it/s]\u001b[A\n",
      " 52%|█████▏    | 299/570 [00:13<00:41,  6.51it/s]\u001b[A\n",
      " 53%|█████▎    | 302/570 [00:14<00:32,  8.23it/s]\u001b[A\n",
      " 54%|█████▎    | 305/570 [00:14<00:25, 10.25it/s]\u001b[A\n",
      " 54%|█████▍    | 308/570 [00:14<00:21, 12.33it/s]\u001b[A\n",
      " 55%|█████▍    | 311/570 [00:14<00:18, 14.30it/s]\u001b[A\n",
      " 55%|█████▌    | 314/570 [00:14<00:15, 16.31it/s]\u001b[A\n",
      " 56%|█████▌    | 317/570 [00:14<00:14, 17.91it/s]\u001b[A\n",
      " 56%|█████▌    | 320/570 [00:14<00:12, 19.34it/s]\u001b[A\n",
      " 57%|█████▋    | 323/570 [00:14<00:11, 20.82it/s]\u001b[A\n",
      " 57%|█████▋    | 326/570 [00:15<00:11, 21.84it/s]\u001b[A\n",
      " 58%|█████▊    | 329/570 [00:15<00:10, 22.36it/s]\u001b[A\n",
      " 58%|█████▊    | 332/570 [00:15<00:10, 23.28it/s]\u001b[A\n",
      " 59%|█████▉    | 335/570 [00:15<00:09, 23.86it/s]\u001b[A\n",
      " 59%|█████▉    | 338/570 [00:15<00:09, 24.36it/s]\u001b[A\n",
      " 60%|█████▉    | 341/570 [00:15<00:09, 24.40it/s]\u001b[A\n",
      " 60%|██████    | 344/570 [00:15<00:09, 24.55it/s]\u001b[A\n",
      " 61%|██████    | 347/570 [00:15<00:09, 24.60it/s]\u001b[A\n",
      " 61%|██████▏   | 350/570 [00:15<00:08, 24.87it/s]\u001b[A\n",
      " 62%|██████▏   | 353/570 [00:16<00:08, 25.28it/s]\u001b[A\n",
      " 62%|██████▏   | 356/570 [00:16<00:08, 25.49it/s]\u001b[A\n",
      " 63%|██████▎   | 359/570 [00:16<00:08, 25.61it/s]\u001b[A\n",
      " 64%|██████▎   | 362/570 [00:16<00:08, 25.24it/s]\u001b[A\n",
      " 64%|██████▍   | 365/570 [00:16<00:08, 25.23it/s]\u001b[A\n",
      " 65%|██████▍   | 368/570 [00:16<00:08, 25.09it/s]\u001b[A\n",
      " 65%|██████▌   | 371/570 [00:16<00:07, 25.29it/s]\u001b[A\n",
      " 66%|██████▌   | 374/570 [00:16<00:07, 25.48it/s]\u001b[A\n",
      " 66%|██████▌   | 377/570 [00:17<00:07, 25.41it/s]\u001b[A\n",
      " 67%|██████▋   | 380/570 [00:17<00:07, 24.84it/s]\u001b[A\n",
      " 67%|██████▋   | 383/570 [00:17<00:07, 24.99it/s]\u001b[A\n",
      " 68%|██████▊   | 386/570 [00:17<00:07, 24.70it/s]\u001b[A\n",
      " 68%|██████▊   | 389/570 [00:17<00:07, 25.05it/s]\u001b[A\n",
      " 69%|██████▉   | 392/570 [00:17<00:06, 25.54it/s]\u001b[A\n",
      " 69%|██████▉   | 395/570 [00:17<00:06, 25.83it/s]\u001b[A\n",
      " 70%|██████▉   | 398/570 [00:17<00:06, 25.76it/s]\u001b[A\n",
      " 70%|███████   | 401/570 [00:17<00:06, 25.49it/s]\u001b[A\n",
      " 71%|███████   | 404/570 [00:18<00:06, 25.65it/s]\u001b[A\n",
      " 71%|███████▏  | 407/570 [00:18<00:06, 25.33it/s]\u001b[A\n",
      " 72%|███████▏  | 410/570 [00:18<00:06, 25.51it/s]\u001b[A\n",
      " 72%|███████▏  | 413/570 [00:18<00:06, 25.61it/s]\u001b[A\n",
      " 73%|███████▎  | 416/570 [00:18<00:06, 25.55it/s]\u001b[A\n",
      " 74%|███████▎  | 419/570 [00:18<00:05, 25.39it/s]\u001b[A\n",
      " 74%|███████▍  | 422/570 [00:18<00:05, 25.46it/s]\u001b[A\n",
      " 75%|███████▍  | 425/570 [00:18<00:05, 25.27it/s]\u001b[A\n",
      " 75%|███████▌  | 428/570 [00:19<00:05, 25.48it/s]\u001b[A\n",
      " 76%|███████▌  | 431/570 [00:19<00:05, 25.70it/s]\u001b[A\n",
      " 76%|███████▌  | 434/570 [00:19<00:05, 25.90it/s]\u001b[A\n",
      " 77%|███████▋  | 437/570 [00:19<00:05, 25.60it/s]\u001b[A\n",
      " 77%|███████▋  | 440/570 [00:19<00:05, 25.46it/s]\u001b[A\n",
      " 78%|███████▊  | 443/570 [00:19<00:04, 25.51it/s]\u001b[A\n",
      " 78%|███████▊  | 446/570 [00:19<00:04, 25.27it/s]\u001b[A\n",
      " 79%|███████▉  | 449/570 [00:19<00:04, 25.23it/s]\u001b[A\n",
      " 79%|███████▉  | 452/570 [00:19<00:04, 25.39it/s]\u001b[A\n",
      " 80%|███████▉  | 455/570 [00:20<00:04, 25.50it/s]\u001b[A\n",
      " 80%|████████  | 458/570 [00:20<00:04, 25.20it/s]\u001b[A\n",
      " 81%|████████  | 461/570 [00:20<00:04, 25.38it/s]\u001b[A\n",
      " 81%|████████▏ | 464/570 [00:20<00:04, 25.00it/s]\u001b[A\n"
     ]
    },
    {
     "name": "stderr",
     "output_type": "stream",
     "text": [
      " 82%|████████▏ | 467/570 [00:20<00:04, 24.90it/s]\u001b[A\n",
      " 82%|████████▏ | 470/570 [00:20<00:03, 25.42it/s]\u001b[A\n",
      " 83%|████████▎ | 473/570 [00:20<00:03, 25.25it/s]\u001b[A\n",
      " 84%|████████▎ | 476/570 [00:20<00:03, 25.11it/s]\u001b[A\n",
      " 84%|████████▍ | 479/570 [00:21<00:03, 25.01it/s]\u001b[A\n",
      " 85%|████████▍ | 482/570 [00:21<00:03, 25.00it/s]\u001b[A\n",
      " 85%|████████▌ | 485/570 [00:21<00:03, 24.75it/s]\u001b[A\n",
      " 86%|████████▌ | 488/570 [00:21<00:03, 24.82it/s]\u001b[A\n",
      " 86%|████████▌ | 491/570 [00:21<00:03, 24.87it/s]\u001b[A\n",
      " 87%|████████▋ | 494/570 [00:21<00:03, 24.99it/s]\u001b[A\n",
      " 87%|████████▋ | 497/570 [00:21<00:02, 24.79it/s]\u001b[A\n",
      " 88%|████████▊ | 500/570 [00:22<00:04, 16.82it/s]\u001b[A\n",
      " 88%|████████▊ | 503/570 [00:22<00:05, 12.47it/s]\u001b[A\n",
      " 89%|████████▊ | 505/570 [00:22<00:05, 11.63it/s]\u001b[A\n",
      " 89%|████████▉ | 507/570 [00:23<00:10,  5.96it/s]\u001b[A\n",
      " 89%|████████▉ | 509/570 [00:23<00:08,  7.49it/s]\u001b[A\n",
      " 90%|████████▉ | 512/570 [00:23<00:06,  9.47it/s]\u001b[A\n",
      " 90%|█████████ | 515/570 [00:23<00:04, 11.59it/s]\u001b[A\n",
      " 91%|█████████ | 518/570 [00:23<00:03, 13.72it/s]\u001b[A\n",
      " 91%|█████████▏| 521/570 [00:24<00:03, 15.83it/s]\u001b[A\n",
      " 92%|█████████▏| 524/570 [00:24<00:02, 17.73it/s]\u001b[A\n",
      " 92%|█████████▏| 527/570 [00:24<00:02, 19.36it/s]\u001b[A\n",
      " 93%|█████████▎| 530/570 [00:24<00:01, 20.79it/s]\u001b[A\n",
      " 94%|█████████▎| 533/570 [00:24<00:01, 21.57it/s]\u001b[A\n",
      " 94%|█████████▍| 536/570 [00:24<00:01, 22.41it/s]\u001b[A\n",
      " 95%|█████████▍| 539/570 [00:24<00:01, 23.19it/s]\u001b[A\n",
      " 95%|█████████▌| 542/570 [00:24<00:01, 23.79it/s]\u001b[A\n",
      " 96%|█████████▌| 545/570 [00:24<00:01, 24.20it/s]\u001b[A\n",
      " 96%|█████████▌| 548/570 [00:25<00:00, 24.21it/s]\u001b[A\n",
      " 97%|█████████▋| 551/570 [00:25<00:00, 24.40it/s]\u001b[A\n",
      " 97%|█████████▋| 554/570 [00:25<00:00, 24.23it/s]\u001b[A\n",
      " 98%|█████████▊| 557/570 [00:25<00:00, 24.12it/s]\u001b[A\n",
      " 98%|█████████▊| 560/570 [00:25<00:00, 24.44it/s]\u001b[A\n",
      " 99%|█████████▉| 563/570 [00:25<00:00, 24.48it/s]\u001b[A\n",
      " 99%|█████████▉| 566/570 [00:25<00:00, 24.52it/s]\u001b[A\n",
      "100%|██████████| 570/570 [00:25<00:00, 21.93it/s]\u001b[A\n"
     ]
    }
   ],
   "source": [
    "following = get_following(username)"
   ]
  },
  {
   "cell_type": "code",
   "execution_count": 92,
   "metadata": {},
   "outputs": [
    {
     "name": "stdout",
     "output_type": "stream",
     "text": [
      "518 570\n"
     ]
    }
   ],
   "source": [
    "print(len(followers), len(following))\n",
    "with open('followers.txt', 'w') as fp:\n",
    "    fp.write('\\n'.join(followers))\n",
    "\n",
    "with open('following.txt', 'w') as fp:\n",
    "    fp.write('\\n'.join(following))"
   ]
  },
  {
   "cell_type": "code",
   "execution_count": 94,
   "metadata": {},
   "outputs": [],
   "source": [
    "non_following_back = following - followers\n",
    "with open('non_following_back.txt', 'w') as fp:\n",
    "    fp.write('\\n'.join(non_following_back))\n",
    "len(non_following_back)"
   ]
  },
  {
   "cell_type": "markdown",
   "metadata": {},
   "source": [
    "## Remove non followers"
   ]
  },
  {
   "cell_type": "code",
   "execution_count": 107,
   "metadata": {},
   "outputs": [],
   "source": [
    "\n",
    "def is_current_private():\n",
    "    '''We assume we are following him. We click the unfollow button, then read if IG notifies us if it's private'''\n",
    "    try:\n",
    "        btn_following = driver.find_element_by_xpath(\"//span[@aria-label='Following']\")\n",
    "    except NoSuchElementException:\n",
    "        print('You were not following him')\n",
    "        return False\n",
    "    btn_following.click()\n",
    "    time.sleep(4)\n",
    "    dialog = driver.find_element_by_xpath(\"//div[@role='dialog']\")\n",
    "    unfollow_btn, cancel_btn = dialog.find_elements_by_tag_name('button')\n",
    "    msg = dialog.find_element_by_class_name('_08v79')\n",
    "    private = 'If you change your mind' in msg.text  # if IG is in English it will work\n",
    "    cancel_btn.click()\n",
    "    time.sleep(4)\n",
    "    return private\n"
   ]
  },
  {
   "cell_type": "code",
   "execution_count": 22,
   "metadata": {},
   "outputs": [],
   "source": [
    "\n",
    "def get_user_info(username=None):\n",
    "    '''Get basic info from users. Window must be maximized in order to work.'''\n",
    "    # load user's profile\n",
    "    if username is not None:\n",
    "        username_url = f'https://www.instagram.com/{username}/'\n",
    "        driver.get(username_url)\n",
    "        time.sleep(random.randint(7, 15))\n",
    "\n",
    "    # find ul elements (required for the count fields)\n",
    "    ul = driver.find_element_by_xpath('//*[@id=\"react-root\"]/section/main/div/header/section/ul')\n",
    "    li_list = ul.find_elements_by_tag_name('li')\n",
    "    fetch_text = lambda e: e.find_element_by_class_name('g47SY ').text\n",
    "    \n",
    "    posts = fetch_text(li_list[0])\n",
    "    followers = fetch_text(li_list[1])\n",
    "    following = fetch_text(li_list[2])\n",
    "    bio_elem =  driver.find_element_by_xpath('//*[@id=\"react-root\"]/section/main/div/header/section/div[2]')\n",
    "    return posts, followers, following, bio_elem.text"
   ]
  },
  {
   "cell_type": "code",
   "execution_count": 99,
   "metadata": {},
   "outputs": [],
   "source": [
    "# Prepare people to be removed\n",
    "with open('./txt/non_following_back.txt', 'r') as non_following:\n",
    "    non_following_set = set(non_following.read().split('\\n')[:-1])  # ignore the last element, it's ''\n",
    "with open('./txt/whitelist.txt', 'r') as whitelist_fp:\n",
    "    whitelist_set = set(whitelist_fp.read().split('\\n')[:-1])\n",
    "removables = non_following_set - whitelist_set"
   ]
  },
  {
   "cell_type": "code",
   "execution_count": 100,
   "metadata": {},
   "outputs": [],
   "source": [
    "df = pd.read_csv('./txt/unfollowed.csv')\n",
    "removables = removables - set(df.nick)"
   ]
  },
  {
   "cell_type": "code",
   "execution_count": 105,
   "metadata": {},
   "outputs": [],
   "source": [
    "\n",
    "def unfollow_current(wait_dialog_secs=6):\n",
    "    '''Unfollow the current profile where we are'''\n",
    "    # unfollow him\n",
    "    try:\n",
    "        btn_following = driver.find_element_by_xpath(\"//span[@aria-label='Following']\")\n",
    "    except NoSuchElementException:\n",
    "        print('You were not following him')\n",
    "        return None\n",
    "    btn_following.click()\n",
    "    time.sleep(wait_dialog_secs)  # wait dialog\n",
    "    dialog = driver.find_element_by_xpath(\"//div[@role='dialog']\")\n",
    "    unfollow_btn, cancel_btn = dialog.find_elements_by_tag_name('button')\n",
    "    msg = dialog.find_element_by_class_name('_08v79').text\n",
    "    unfollow_btn.click()\n",
    "    return 'If you change your mind' in msg  # is private ?\n",
    "\n"
   ]
  },
  {
   "cell_type": "code",
   "execution_count": 106,
   "metadata": {},
   "outputs": [],
   "source": [
    "\n",
    "\n",
    "fp = open('./txt/unfollowed.csv', mode='a+')\n",
    "writer = csv.writer(fp)  # csv ready to append information\n"
   ]
  },
  {
   "cell_type": "code",
   "execution_count": 110,
   "metadata": {},
   "outputs": [
    {
     "name": "stderr",
     "output_type": "stream",
     "text": [
      "100%|██████████| 32/32 [21:55<00:00, 41.10s/it]\n"
     ]
    }
   ],
   "source": [
    "bugs = []\n",
    "for nick in tqdm(removables, total=len(removables), position=0, leave=True):\n",
    "    # change to user profile\n",
    "    username_url = f'https://www.instagram.com/{nick}/'\n",
    "    driver.get(username_url)\n",
    "    time.sleep(random.randint(15, 20))\n",
    "    \n",
    "    \n",
    "    # verify if user exists\n",
    "    try:\n",
    "        h2 = driver.find_element_by_xpath(\"//h2[@class='VnYfv']\")\n",
    "        print(f\"user {nick} not found\")\n",
    "        bugs.append(nick)\n",
    "        continue\n",
    "    except NoSuchElementException:\n",
    "        pass\n",
    "    \n",
    "    posts, followers, following, bio = get_user_info()  # you also change to profile\n",
    "    private = unfollow_current()\n",
    "    if private is None:\n",
    "        print(f\"user {nick} hadn't been followed\")\n",
    "        bugs.append(nick)\n",
    "    else:\n",
    "        writer.writerow([nick, posts, followers, following, bio, private])\n",
    "        fp.flush()  # important to reflect rows in csv file\n",
    "fp.close()"
   ]
  },
  {
   "cell_type": "code",
   "execution_count": null,
   "metadata": {},
   "outputs": [],
   "source": [
    "removables = removables - set(bugs)"
   ]
  },
  {
   "cell_type": "code",
   "execution_count": null,
   "metadata": {},
   "outputs": [],
   "source": [
    "print(bugs)"
   ]
  },
  {
   "cell_type": "code",
   "execution_count": null,
   "metadata": {},
   "outputs": [],
   "source": []
  },
  {
   "cell_type": "code",
   "execution_count": 111,
   "metadata": {},
   "outputs": [],
   "source": [
    "df = pd.read_csv('./csv/people.csv')"
   ]
  },
  {
   "cell_type": "code",
   "execution_count": null,
   "metadata": {},
   "outputs": [],
   "source": []
  }
 ],
 "metadata": {
  "kernelspec": {
   "display_name": "Python 3",
   "language": "python",
   "name": "python3"
  },
  "language_info": {
   "codemirror_mode": {
    "name": "ipython",
    "version": 3
   },
   "file_extension": ".py",
   "mimetype": "text/x-python",
   "name": "python",
   "nbconvert_exporter": "python",
   "pygments_lexer": "ipython3",
   "version": "3.7.6"
  }
 },
 "nbformat": 4,
 "nbformat_minor": 4
}
