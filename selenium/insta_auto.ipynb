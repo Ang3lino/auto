{
 "cells": [
  {
   "cell_type": "code",
   "execution_count": null,
   "metadata": {},
   "outputs": [],
   "source": [
    "    "
   ]
  },
  {
   "cell_type": "markdown",
   "metadata": {},
   "source": [
    "# InstaBot\n",
    "Instagram bot and scrapper with the finality of winning more followers"
   ]
  },
  {
   "cell_type": "code",
   "execution_count": 212,
   "metadata": {},
   "outputs": [],
   "source": [
    "import random\n",
    "import sys\n",
    "import time\n",
    "\n",
    "import Credential\n",
    "\n",
    "from selenium import webdriver\n",
    "from selenium.webdriver.common.keys import Keys\n",
    "from selenium.common.exceptions import NoSuchElementException\n",
    "\n",
    "from tqdm import tqdm\n",
    "\n"
   ]
  },
  {
   "cell_type": "markdown",
   "metadata": {},
   "source": [
    "# Login "
   ]
  },
  {
   "cell_type": "code",
   "execution_count": 207,
   "metadata": {},
   "outputs": [],
   "source": [
    "def login(driver, username, password):\n",
    "    driver.get(\"https://www.instagram.com/\")\n",
    "    time.sleep(2)\n",
    "    # login_button = driver.find_element_by_xpath(\"//a[@href='/accounts/login/?source=auth_switcher']\")\n",
    "    # login_button.click()\n",
    "    # time.sleep(2)\n",
    "    user_name_elem = driver.find_element_by_xpath(\"//input[@name='username']\")\n",
    "    user_name_elem.clear()\n",
    "    user_name_elem.send_keys(username)\n",
    "    password_elem = driver.find_element_by_xpath(\"//input[@name='password']\")\n",
    "    password_elem.clear()\n",
    "    password_elem.send_keys(password)\n",
    "    password_elem.send_keys(Keys.RETURN)\n",
    "    time.sleep(2)\n",
    "    \n"
   ]
  },
  {
   "cell_type": "code",
   "execution_count": null,
   "metadata": {},
   "outputs": [],
   "source": [
    "driver = webdriver.Chrome('./chromedriver')\n",
    "username = Credential.username\n",
    "password = Credential.password\n",
    "login(driver, username, password)"
   ]
  },
  {
   "cell_type": "code",
   "execution_count": null,
   "metadata": {},
   "outputs": [],
   "source": [
    "def __load_comments(n, delay=2):\n",
    "    '''Click the watch more comments in the post n times'''\n",
    "    print('Loading comments...')\n",
    "    for _ in tqdm(range(n), total=n):  # while True:\n",
    "        try:\n",
    "            btn = driver.find_element_by_xpath(\"//button[@class='dCJp8 afkep']\")\n",
    "        except NoSuchElementException as e:\n",
    "            break  # we have all the comments loaded\n",
    "        btn.click()\n",
    "        time.sleep(delay)\n",
    "\n",
    "def __love_comment(comment):\n",
    "    svgs = comment.find_elements_by_tag_name('svg')\n",
    "    for svg in svgs:\n",
    "        attr = svg.get_attribute('aria-label')\n",
    "        if attr == 'Unlike':  # we've loved the button\n",
    "            return True\n",
    "        elif attr == 'Like':\n",
    "            try:\n",
    "                svg.click()\n",
    "            except Exception as e:\n",
    "                print(\"[!] IG got angry man, stop\")  # love click limit reached\n",
    "                return False\n",
    "            return True\n",
    "        \n",
    "def __get_nick_from_comment(ul_comment):\n",
    "    h3 = ul_comment.find_element_by_tag_name('h3')\n",
    "    a = h3.find_element_by_tag_name('a')\n",
    "    return a.text\n",
    "        \n",
    "def like_comments(url):\n",
    "    driver.get(url)\n",
    "    time.sleep(2)\n",
    "    comments_amount = 1326\n",
    "    __load_comments(comments_amount // 12)\n",
    "    print(\"[OK] All comments in the screen\")\n",
    "    comments = driver.find_elements_by_class_name('Mr508')\n",
    "    ul_comments = filter(lambda c: c.tag_name == 'ul', comments)\n",
    "    with open('loved.txt', 'w') as fp:\n",
    "        for comment in tqdm(ul_comments, total=comments_amount):\n",
    "            nick = __get_nick_from_comment(comment)\n",
    "            if not __love_comment(comment):\n",
    "                return False  # IG is upset and thinks I'm a bot haha\n",
    "            fp.write(nick + '\\n')\n",
    "            time.sleep(random.randint(1, 4))  # delay randomly to avoid anti-bot algorithm\n",
    "    return True\n"
   ]
  },
  {
   "cell_type": "code",
   "execution_count": 210,
   "metadata": {},
   "outputs": [],
   "source": [
    "'''\n",
    "Action blocked html \n",
    "<div class=\"pbNvD  fPMEg   \" role=\"dialog\">\n",
    "    <div class=\"piCib\">\n",
    "        <div class=\"_08v79\">\n",
    "            <h3 class=\"_7UhW9     LjQVu     qyrsm KV-D4        uL8Hv         \">\n",
    "                Action Blocked\n",
    "            </h3>\n",
    "            <div class=\"_7UhW9   xLCgt      MMzan   _0PwGv       uL8Hv         \">\n",
    "                This action was blocked. Please try again later. We restrict certain content and actions to protect our community. Tell us if you think we made a mistake.</div></div><div class=\"mt3GC\"><button class=\"aOOlW  bIiDR  \" tabindex=\"0\">Report a Problem</button><button class=\"aOOlW   HoLwm \" tabindex=\"0\">OK</button></div></div></div>\n",
    "'''\n",
    "\n",
    "div = driver.find_element_by_class_name('mt3GC')\n",
    "btn = div.find_elements_by_tag_name('button')\n",
    "button_ok = btn[1].click()"
   ]
  },
  {
   "cell_type": "code",
   "execution_count": 211,
   "metadata": {},
   "outputs": [
    {
     "name": "stderr",
     "output_type": "stream",
     "text": [
      "\n",
      "\n",
      "  0%|          | 0/110 [00:00<?, ?it/s]\u001b[A\u001b[A\n",
      "\n",
      "  1%|          | 1/110 [00:02<03:59,  2.20s/it]\u001b[A\u001b[A\n",
      "\n",
      "  2%|▏         | 2/110 [00:04<03:58,  2.21s/it]\u001b[A\u001b[A\n",
      "\n",
      "  3%|▎         | 3/110 [00:06<04:00,  2.24s/it]\u001b[A\u001b[A\n",
      "\n",
      "  4%|▎         | 4/110 [00:09<03:58,  2.25s/it]\u001b[A\u001b[A\n",
      "\n",
      "  5%|▍         | 5/110 [00:11<03:57,  2.26s/it]\u001b[A\u001b[A\n",
      "\n",
      "  5%|▌         | 6/110 [00:13<03:58,  2.29s/it]\u001b[A\u001b[A\n",
      "\n",
      "  6%|▋         | 7/110 [00:16<03:58,  2.31s/it]\u001b[A\u001b[A\n",
      "\n",
      "  7%|▋         | 8/110 [00:18<04:11,  2.46s/it]\u001b[A\u001b[A\n",
      "\n",
      "  8%|▊         | 9/110 [00:21<04:11,  2.49s/it]\u001b[A\u001b[A\n",
      "\n",
      "  9%|▉         | 10/110 [00:23<04:09,  2.50s/it]\u001b[A\u001b[A\n",
      "\n",
      " 10%|█         | 11/110 [00:26<04:06,  2.49s/it]\u001b[A\u001b[A\n",
      "\n",
      " 11%|█         | 12/110 [00:28<04:04,  2.49s/it]\u001b[A\u001b[A\n",
      "\n",
      " 12%|█▏        | 13/110 [00:31<04:03,  2.51s/it]\u001b[A\u001b[A\n",
      "\n",
      " 13%|█▎        | 14/110 [00:33<04:01,  2.52s/it]\u001b[A\u001b[A\n",
      "\n",
      " 14%|█▎        | 15/110 [00:36<04:00,  2.54s/it]\u001b[A\u001b[A\n",
      "\n",
      " 15%|█▍        | 16/110 [00:39<03:59,  2.55s/it]\u001b[A\u001b[A\n",
      "\n",
      " 15%|█▌        | 17/110 [00:41<03:59,  2.58s/it]\u001b[A\u001b[A\n",
      "\n",
      " 16%|█▋        | 18/110 [00:44<03:58,  2.60s/it]\u001b[A\u001b[A\n",
      "\n",
      " 17%|█▋        | 19/110 [00:47<03:58,  2.62s/it]\u001b[A\u001b[A\n",
      "\n",
      "\n",
      "  0%|          | 0/1326 [00:00<?, ?it/s]\u001b[A\u001b[A\u001b[A"
     ]
    },
    {
     "name": "stdout",
     "output_type": "stream",
     "text": [
      "[OK] All comments in the screen\n"
     ]
    },
    {
     "name": "stderr",
     "output_type": "stream",
     "text": [
      "\n",
      "\n",
      "\n",
      "  0%|          | 1/1326 [00:02<46:11,  2.09s/it]\u001b[A\u001b[A\u001b[A\n",
      "\n",
      "\n",
      "  0%|          | 2/1326 [00:05<52:48,  2.39s/it]\u001b[A\u001b[A\u001b[A\n",
      "\n",
      "\n",
      "  0%|          | 3/1326 [00:06<44:07,  2.00s/it]\u001b[A\u001b[A\u001b[A\n",
      "\n",
      "\n",
      "  0%|          | 4/1326 [00:08<44:42,  2.03s/it]\u001b[A\u001b[A\u001b[A\n",
      "\n",
      "\n",
      "  0%|          | 5/1326 [00:10<45:06,  2.05s/it]\u001b[A\u001b[A\u001b[A\n",
      "\n",
      "\n",
      "  0%|          | 6/1326 [00:13<51:57,  2.36s/it]\u001b[A\u001b[A\u001b[A\n",
      "\n",
      "\n",
      "  1%|          | 7/1326 [00:15<50:07,  2.28s/it]\u001b[A\u001b[A\u001b[A\n",
      "\n",
      "\n",
      "  1%|          | 8/1326 [00:16<42:19,  1.93s/it]\u001b[A\u001b[A\u001b[A\n",
      "\n",
      "\n",
      "  1%|          | 9/1326 [00:17<36:52,  1.68s/it]\u001b[A\u001b[A\u001b[A\n",
      "\n",
      "\n",
      "  1%|          | 10/1326 [00:20<46:09,  2.10s/it]\u001b[A\u001b[A\u001b[A\n",
      "\n",
      "\n",
      "  1%|          | 11/1326 [00:25<59:10,  2.70s/it]\u001b[A\u001b[A\u001b[A\n",
      "\n",
      "\n",
      "  1%|          | 12/1326 [00:29<1:08:17,  3.12s/it]\u001b[A\u001b[A\u001b[A\n",
      "\n",
      "\n",
      "  1%|          | 13/1326 [00:33<1:14:39,  3.41s/it]\u001b[A\u001b[A\u001b[A\n",
      "\n",
      "\n",
      "  1%|          | 14/1326 [00:37<1:21:00,  3.70s/it]\u001b[A\u001b[A\u001b[A\n",
      "\n",
      "\n",
      "  1%|          | 15/1326 [00:40<1:16:53,  3.52s/it]\u001b[A\u001b[A\u001b[A\n",
      "\n",
      "\n",
      "  1%|          | 16/1326 [00:42<1:07:31,  3.09s/it]\u001b[A\u001b[A\u001b[A\n",
      "\n",
      "\n",
      "  1%|▏         | 17/1326 [00:43<54:24,  2.49s/it]  \u001b[A\u001b[A\u001b[A\n",
      "\n",
      "\n",
      "  1%|▏         | 18/1326 [00:44<45:12,  2.07s/it]\u001b[A\u001b[A\u001b[A\n",
      "\n",
      "\n",
      "  1%|▏         | 19/1326 [00:47<45:19,  2.08s/it]\u001b[A\u001b[A\u001b[A"
     ]
    },
    {
     "name": "stdout",
     "output_type": "stream",
     "text": [
      "[!] IG got angry man, stop\n"
     ]
    },
    {
     "data": {
      "text/plain": [
       "False"
      ]
     },
     "execution_count": 211,
     "metadata": {},
     "output_type": "execute_result"
    }
   ],
   "source": [
    "like_comments('https://www.instagram.com/p/B_ghUHuFtVr/')"
   ]
  },
  {
   "cell_type": "code",
   "execution_count": 202,
   "metadata": {},
   "outputs": [],
   "source": [
    "def get_inner_html(elem):\n",
    "    return elem.get_attribute('innerHTML')\n",
    "\n",
    "def click_post_followers_following(index):\n",
    "    '''You shoud be in the target profile before execute the function.\n",
    "    If index == 0 post else if index == 1 followers else if index == 2 following else error will be raised. '''\n",
    "    ul_post_followers_following = driver.find_element_by_class_name(\"k9GMp \")\n",
    "    li_elems = ul_post_followers_following.find_elements_by_tag_name('li')\n",
    "    li_selected = li_elems[index]\n",
    "    li_selected.find_element_by_tag_name('a').click() \n",
    "    \n",
    "    # how many li are there\n",
    "    return int(li_selected.find_element_by_tag_name('span').text)\n",
    "\n",
    "def get_nicknames(people_count) -> set:\n",
    "    '''We'll scrap nicknames by looking followers, following field in our account  \n",
    "    '''    \n",
    "    print('Scrolling...')\n",
    "    div = driver.find_element_by_class_name('isgrP')\n",
    "    ul_scroll = div.find_element_by_tag_name('ul')\n",
    "    for _ in tqdm(range(people_count // 12)):  # Insta loads 12 elements per upload\n",
    "        driver.execute_script('arguments[0].scrollIntoView(false)', ul_scroll)  # scroll all the way down to load all li elements inside ul list\n",
    "        time.sleep(1)  # wait to load html elements\n",
    "    \n",
    "    li_people = driver.find_elements_by_class_name('wo9IH')  # it may find elements inside ul_scoll variable\n",
    "    people_names = set()\n",
    "    print('Appending nicknames in list...')\n",
    "    for li_elem in tqdm(li_people, total=len(li_people)):\n",
    "        div_elem = li_elem.find_element_by_class_name('d7ByH')\n",
    "        a_elem = div_elem.find_element_by_tag_name('a')\n",
    "        people_names.add(a_elem.text)\n",
    "    return people_names\n",
    "\n",
    "def __get_people(option, url_profile):\n",
    "    driver.get(url_profile)\n",
    "    time.sleep(2)  # call time after update the document\n",
    "    n = click_post_followers_following(option)\n",
    "    print(f'Followers: {n}') if option == 1 else print(f'Following: {n}')    \n",
    "    time.sleep(2)\n",
    "    return get_nicknames(n)\n",
    "\n",
    "\n",
    "def get_followers(username):\n",
    "    url_profile = f'https://www.instagram.com/{username}/'\n",
    "    return __get_people(1, url_profile)\n",
    "\n",
    "def get_following(username):\n",
    "    url_profile = f'https://www.instagram.com/{username}/'\n",
    "    return __get_people(2, url_profile)\n"
   ]
  },
  {
   "cell_type": "code",
   "execution_count": null,
   "metadata": {},
   "outputs": [],
   "source": []
  },
  {
   "cell_type": "code",
   "execution_count": 203,
   "metadata": {},
   "outputs": [
    {
     "name": "stdout",
     "output_type": "stream",
     "text": [
      "Followers: 466\n"
     ]
    },
    {
     "name": "stderr",
     "output_type": "stream",
     "text": [
      "\r",
      "  0%|          | 0/38 [00:00<?, ?it/s]"
     ]
    },
    {
     "name": "stdout",
     "output_type": "stream",
     "text": [
      "Scrolling...\n"
     ]
    },
    {
     "name": "stderr",
     "output_type": "stream",
     "text": [
      "100%|██████████| 38/38 [00:39<00:00,  1.03s/it]\n",
      "  1%|          | 3/466 [00:00<00:22, 20.69it/s]"
     ]
    },
    {
     "name": "stdout",
     "output_type": "stream",
     "text": [
      "Appending nicknames in list...\n"
     ]
    },
    {
     "name": "stderr",
     "output_type": "stream",
     "text": [
      "100%|██████████| 466/466 [00:23<00:00, 19.79it/s]\n"
     ]
    }
   ],
   "source": [
    "followers = get_followers(username)\n"
   ]
  },
  {
   "cell_type": "code",
   "execution_count": 204,
   "metadata": {},
   "outputs": [
    {
     "name": "stdout",
     "output_type": "stream",
     "text": [
      "Following: 654\n"
     ]
    },
    {
     "name": "stderr",
     "output_type": "stream",
     "text": [
      "\r",
      "  0%|          | 0/54 [00:00<?, ?it/s]"
     ]
    },
    {
     "name": "stdout",
     "output_type": "stream",
     "text": [
      "Scrolling...\n"
     ]
    },
    {
     "name": "stderr",
     "output_type": "stream",
     "text": [
      "100%|██████████| 54/54 [00:56<00:00,  1.04s/it]\n",
      "  0%|          | 3/654 [00:00<00:30, 21.36it/s]"
     ]
    },
    {
     "name": "stdout",
     "output_type": "stream",
     "text": [
      "Appending nicknames in list...\n"
     ]
    },
    {
     "name": "stderr",
     "output_type": "stream",
     "text": [
      "100%|██████████| 654/654 [00:35<00:00, 18.64it/s]\n"
     ]
    }
   ],
   "source": [
    "following = get_following(username)"
   ]
  },
  {
   "cell_type": "code",
   "execution_count": 205,
   "metadata": {},
   "outputs": [
    {
     "name": "stdout",
     "output_type": "stream",
     "text": [
      "466 654\n"
     ]
    }
   ],
   "source": [
    "print(len(followers), len(following))"
   ]
  },
  {
   "cell_type": "code",
   "execution_count": 49,
   "metadata": {},
   "outputs": [],
   "source": [
    "with open('followers.txt', 'w') as fp:\n",
    "    fp.write('\\n'.join(followers))\n",
    "\n",
    "with open('following.txt', 'w') as fp:\n",
    "    fp.write('\\n'.join(following))\n"
   ]
  },
  {
   "cell_type": "code",
   "execution_count": null,
   "metadata": {},
   "outputs": [],
   "source": []
  },
  {
   "cell_type": "code",
   "execution_count": 50,
   "metadata": {},
   "outputs": [],
   "source": [
    "non_following_back = following - followers"
   ]
  },
  {
   "cell_type": "code",
   "execution_count": 51,
   "metadata": {},
   "outputs": [],
   "source": [
    "with open('non_following_back.txt', 'w') as fp:\n",
    "    fp.write('\\n'.join(non_following_back))"
   ]
  },
  {
   "cell_type": "code",
   "execution_count": null,
   "metadata": {},
   "outputs": [],
   "source": []
  }
 ],
 "metadata": {
  "kernelspec": {
   "display_name": "Python 3",
   "language": "python",
   "name": "python3"
  },
  "language_info": {
   "codemirror_mode": {
    "name": "ipython",
    "version": 3
   },
   "file_extension": ".py",
   "mimetype": "text/x-python",
   "name": "python",
   "nbconvert_exporter": "python",
   "pygments_lexer": "ipython3",
   "version": "3.7.6"
  }
 },
 "nbformat": 4,
 "nbformat_minor": 4
}
